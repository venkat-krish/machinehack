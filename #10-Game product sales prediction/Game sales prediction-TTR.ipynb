{
 "cells": [
  {
   "cell_type": "markdown",
   "metadata": {},
   "source": [
    "# Game sales prediction-Catboost"
   ]
  },
  {
   "cell_type": "markdown",
   "metadata": {},
   "source": [
    "## Overview\n",
    "The gaming industry is certainly one of the thriving industries of the modern age and one of those that are most influenced by the advancement in technology. With the availability of technologies like AR/VR in consumer products like gaming consoles and even smartphones, the gaming sector shows great potential. In this hackathon, you as a data scientist must use your analytical skills to predict the sales of video games depending on given factors. Given are 8 distinguishing factors that can influence the sales of a video game. Your objective as a data scientist is to build a machine learning model that can accurately predict the sales in millions of units for a given game."
   ]
  },
  {
   "cell_type": "markdown",
   "metadata": {},
   "source": [
    "## Import Libraries"
   ]
  },
  {
   "cell_type": "code",
   "execution_count": 154,
   "metadata": {},
   "outputs": [],
   "source": [
    "import pandas as pd\n",
    "import numpy as np\n",
    "import os\n",
    "\n",
    "import matplotlib.pyplot as plt\n",
    "import seaborn as sns\n",
    "\n",
    "from scipy.stats import boxcox, skew\n",
    "from scipy.special import inv_boxcox\n",
    "from catboost import CatBoostRegressor\n",
    "from xgboost import XGBRegressor\n",
    "# Import LightGBM\n",
    "from lightgbm import LGBMRegressor\n",
    "\n",
    "from sklearn.preprocessing import PowerTransformer, StandardScaler, RobustScaler\n",
    "from sklearn.feature_selection import SelectKBest, f_regression\n",
    "from sklearn.model_selection import KFold, train_test_split\n",
    "# Linear Regression Model\n",
    "from sklearn.linear_model import LinearRegression, RidgeCV, LassoCV\n",
    "from sklearn.preprocessing import LabelEncoder, OneHotEncoder\n",
    "from sklearn.compose import TransformedTargetRegressor\n",
    "from sklearn.utils import shuffle\n",
    "from sklearn.metrics import mean_squared_error, mean_squared_log_error\n"
   ]
  },
  {
   "cell_type": "markdown",
   "metadata": {},
   "source": [
    "## Loading Dataset"
   ]
  },
  {
   "cell_type": "code",
   "execution_count": 2,
   "metadata": {},
   "outputs": [],
   "source": [
    "game_train_df = pd.read_csv('./data/Train.csv', header=0)\n",
    "game_test_df = pd.read_csv('./data/Test.csv', header=0)\n",
    "game_submit_df = pd.read_csv('./data/Sample_Submission.csv', header=0)"
   ]
  },
  {
   "cell_type": "code",
   "execution_count": 3,
   "metadata": {},
   "outputs": [
    {
     "name": "stdout",
     "output_type": "stream",
     "text": [
      "<class 'pandas.core.frame.DataFrame'>\n",
      "RangeIndex: 3506 entries, 0 to 3505\n",
      "Data columns (total 9 columns):\n",
      " #   Column           Non-Null Count  Dtype  \n",
      "---  ------           --------------  -----  \n",
      " 0   ID               3506 non-null   int64  \n",
      " 1   CONSOLE          3506 non-null   object \n",
      " 2   YEAR             3506 non-null   int64  \n",
      " 3   CATEGORY         3506 non-null   object \n",
      " 4   PUBLISHER        3506 non-null   object \n",
      " 5   RATING           3506 non-null   object \n",
      " 6   CRITICS_POINTS   3506 non-null   float64\n",
      " 7   USER_POINTS      3506 non-null   float64\n",
      " 8   SalesInMillions  3506 non-null   float64\n",
      "dtypes: float64(3), int64(2), object(4)\n",
      "memory usage: 246.6+ KB\n",
      "--------------------------------------------------------------------------------\n"
     ]
    },
    {
     "data": {
      "text/html": [
       "<div>\n",
       "<style scoped>\n",
       "    .dataframe tbody tr th:only-of-type {\n",
       "        vertical-align: middle;\n",
       "    }\n",
       "\n",
       "    .dataframe tbody tr th {\n",
       "        vertical-align: top;\n",
       "    }\n",
       "\n",
       "    .dataframe thead th {\n",
       "        text-align: right;\n",
       "    }\n",
       "</style>\n",
       "<table border=\"1\" class=\"dataframe\">\n",
       "  <thead>\n",
       "    <tr style=\"text-align: right;\">\n",
       "      <th></th>\n",
       "      <th>ID</th>\n",
       "      <th>CONSOLE</th>\n",
       "      <th>YEAR</th>\n",
       "      <th>CATEGORY</th>\n",
       "      <th>PUBLISHER</th>\n",
       "      <th>RATING</th>\n",
       "      <th>CRITICS_POINTS</th>\n",
       "      <th>USER_POINTS</th>\n",
       "      <th>SalesInMillions</th>\n",
       "    </tr>\n",
       "  </thead>\n",
       "  <tbody>\n",
       "    <tr>\n",
       "      <th>0</th>\n",
       "      <td>2860</td>\n",
       "      <td>ds</td>\n",
       "      <td>2008</td>\n",
       "      <td>role-playing</td>\n",
       "      <td>Nintendo</td>\n",
       "      <td>E</td>\n",
       "      <td>2.833333</td>\n",
       "      <td>0.303704</td>\n",
       "      <td>1.779257</td>\n",
       "    </tr>\n",
       "    <tr>\n",
       "      <th>1</th>\n",
       "      <td>731</td>\n",
       "      <td>wii</td>\n",
       "      <td>2012</td>\n",
       "      <td>simulation</td>\n",
       "      <td>Konami Digital Entertainment</td>\n",
       "      <td>E10+</td>\n",
       "      <td>13.200000</td>\n",
       "      <td>1.640000</td>\n",
       "      <td>0.215050</td>\n",
       "    </tr>\n",
       "    <tr>\n",
       "      <th>2</th>\n",
       "      <td>495</td>\n",
       "      <td>pc</td>\n",
       "      <td>2019</td>\n",
       "      <td>shooter</td>\n",
       "      <td>Activision</td>\n",
       "      <td>M</td>\n",
       "      <td>4.562500</td>\n",
       "      <td>0.006410</td>\n",
       "      <td>0.534402</td>\n",
       "    </tr>\n",
       "    <tr>\n",
       "      <th>3</th>\n",
       "      <td>2641</td>\n",
       "      <td>ps2</td>\n",
       "      <td>2002</td>\n",
       "      <td>sports</td>\n",
       "      <td>Electronic Arts</td>\n",
       "      <td>E</td>\n",
       "      <td>4.181818</td>\n",
       "      <td>0.326923</td>\n",
       "      <td>1.383964</td>\n",
       "    </tr>\n",
       "    <tr>\n",
       "      <th>4</th>\n",
       "      <td>811</td>\n",
       "      <td>ps3</td>\n",
       "      <td>2013</td>\n",
       "      <td>action</td>\n",
       "      <td>Activision</td>\n",
       "      <td>M</td>\n",
       "      <td>2.259259</td>\n",
       "      <td>0.032579</td>\n",
       "      <td>0.082671</td>\n",
       "    </tr>\n",
       "  </tbody>\n",
       "</table>\n",
       "</div>"
      ],
      "text/plain": [
       "     ID CONSOLE  YEAR      CATEGORY                     PUBLISHER RATING  \\\n",
       "0  2860      ds  2008  role-playing                      Nintendo      E   \n",
       "1   731     wii  2012    simulation  Konami Digital Entertainment   E10+   \n",
       "2   495      pc  2019       shooter                    Activision      M   \n",
       "3  2641     ps2  2002        sports               Electronic Arts      E   \n",
       "4   811     ps3  2013        action                    Activision      M   \n",
       "\n",
       "   CRITICS_POINTS  USER_POINTS  SalesInMillions  \n",
       "0        2.833333     0.303704         1.779257  \n",
       "1       13.200000     1.640000         0.215050  \n",
       "2        4.562500     0.006410         0.534402  \n",
       "3        4.181818     0.326923         1.383964  \n",
       "4        2.259259     0.032579         0.082671  "
      ]
     },
     "execution_count": 3,
     "metadata": {},
     "output_type": "execute_result"
    }
   ],
   "source": [
    "game_train_df.info()\n",
    "print(\"--\"*40)\n",
    "game_train_df.head()"
   ]
  },
  {
   "cell_type": "code",
   "execution_count": 4,
   "metadata": {},
   "outputs": [
    {
     "name": "stdout",
     "output_type": "stream",
     "text": [
      "<class 'pandas.core.frame.DataFrame'>\n",
      "RangeIndex: 1503 entries, 0 to 1502\n",
      "Data columns (total 8 columns):\n",
      " #   Column          Non-Null Count  Dtype  \n",
      "---  ------          --------------  -----  \n",
      " 0   ID              1503 non-null   int64  \n",
      " 1   CONSOLE         1503 non-null   object \n",
      " 2   YEAR            1503 non-null   int64  \n",
      " 3   CATEGORY        1503 non-null   object \n",
      " 4   PUBLISHER       1503 non-null   object \n",
      " 5   RATING          1503 non-null   object \n",
      " 6   CRITICS_POINTS  1503 non-null   float64\n",
      " 7   USER_POINTS     1503 non-null   float64\n",
      "dtypes: float64(2), int64(2), object(4)\n",
      "memory usage: 94.1+ KB\n",
      "--------------------------------------------------------------------------------\n"
     ]
    },
    {
     "data": {
      "text/html": [
       "<div>\n",
       "<style scoped>\n",
       "    .dataframe tbody tr th:only-of-type {\n",
       "        vertical-align: middle;\n",
       "    }\n",
       "\n",
       "    .dataframe tbody tr th {\n",
       "        vertical-align: top;\n",
       "    }\n",
       "\n",
       "    .dataframe thead th {\n",
       "        text-align: right;\n",
       "    }\n",
       "</style>\n",
       "<table border=\"1\" class=\"dataframe\">\n",
       "  <thead>\n",
       "    <tr style=\"text-align: right;\">\n",
       "      <th></th>\n",
       "      <th>ID</th>\n",
       "      <th>CONSOLE</th>\n",
       "      <th>YEAR</th>\n",
       "      <th>CATEGORY</th>\n",
       "      <th>PUBLISHER</th>\n",
       "      <th>RATING</th>\n",
       "      <th>CRITICS_POINTS</th>\n",
       "      <th>USER_POINTS</th>\n",
       "    </tr>\n",
       "  </thead>\n",
       "  <tbody>\n",
       "    <tr>\n",
       "      <th>0</th>\n",
       "      <td>4310</td>\n",
       "      <td>ps2</td>\n",
       "      <td>2008</td>\n",
       "      <td>action</td>\n",
       "      <td>Tecmo Koei</td>\n",
       "      <td>T</td>\n",
       "      <td>3.928571</td>\n",
       "      <td>0.482353</td>\n",
       "    </tr>\n",
       "    <tr>\n",
       "      <th>1</th>\n",
       "      <td>4011</td>\n",
       "      <td>psp</td>\n",
       "      <td>2007</td>\n",
       "      <td>strategy</td>\n",
       "      <td>Atari</td>\n",
       "      <td>E10+</td>\n",
       "      <td>5.538462</td>\n",
       "      <td>0.071795</td>\n",
       "    </tr>\n",
       "    <tr>\n",
       "      <th>2</th>\n",
       "      <td>2185</td>\n",
       "      <td>ps2</td>\n",
       "      <td>2004</td>\n",
       "      <td>shooter</td>\n",
       "      <td>Electronic Arts</td>\n",
       "      <td>T</td>\n",
       "      <td>3.034483</td>\n",
       "      <td>0.062044</td>\n",
       "    </tr>\n",
       "    <tr>\n",
       "      <th>3</th>\n",
       "      <td>1644</td>\n",
       "      <td>x</td>\n",
       "      <td>2006</td>\n",
       "      <td>action</td>\n",
       "      <td>Electronic Arts</td>\n",
       "      <td>E</td>\n",
       "      <td>2.913043</td>\n",
       "      <td>0.880000</td>\n",
       "    </tr>\n",
       "    <tr>\n",
       "      <th>4</th>\n",
       "      <td>188</td>\n",
       "      <td>3ds</td>\n",
       "      <td>2011</td>\n",
       "      <td>racing</td>\n",
       "      <td>Ubisoft</td>\n",
       "      <td>E10+</td>\n",
       "      <td>1.162162</td>\n",
       "      <td>0.183333</td>\n",
       "    </tr>\n",
       "  </tbody>\n",
       "</table>\n",
       "</div>"
      ],
      "text/plain": [
       "     ID CONSOLE  YEAR  CATEGORY        PUBLISHER RATING  CRITICS_POINTS  \\\n",
       "0  4310     ps2  2008    action       Tecmo Koei      T        3.928571   \n",
       "1  4011     psp  2007  strategy            Atari   E10+        5.538462   \n",
       "2  2185     ps2  2004   shooter  Electronic Arts      T        3.034483   \n",
       "3  1644       x  2006    action  Electronic Arts      E        2.913043   \n",
       "4   188     3ds  2011    racing          Ubisoft   E10+        1.162162   \n",
       "\n",
       "   USER_POINTS  \n",
       "0     0.482353  \n",
       "1     0.071795  \n",
       "2     0.062044  \n",
       "3     0.880000  \n",
       "4     0.183333  "
      ]
     },
     "execution_count": 4,
     "metadata": {},
     "output_type": "execute_result"
    }
   ],
   "source": [
    "game_test_df.info()\n",
    "print('--'*40)\n",
    "game_test_df.head()"
   ]
  },
  {
   "cell_type": "code",
   "execution_count": 5,
   "metadata": {},
   "outputs": [
    {
     "data": {
      "text/html": [
       "<div>\n",
       "<style scoped>\n",
       "    .dataframe tbody tr th:only-of-type {\n",
       "        vertical-align: middle;\n",
       "    }\n",
       "\n",
       "    .dataframe tbody tr th {\n",
       "        vertical-align: top;\n",
       "    }\n",
       "\n",
       "    .dataframe thead th {\n",
       "        text-align: right;\n",
       "    }\n",
       "</style>\n",
       "<table border=\"1\" class=\"dataframe\">\n",
       "  <thead>\n",
       "    <tr style=\"text-align: right;\">\n",
       "      <th></th>\n",
       "      <th>SalesInMillions</th>\n",
       "    </tr>\n",
       "  </thead>\n",
       "  <tbody>\n",
       "    <tr>\n",
       "      <th>0</th>\n",
       "      <td>1.497533</td>\n",
       "    </tr>\n",
       "    <tr>\n",
       "      <th>1</th>\n",
       "      <td>2.368795</td>\n",
       "    </tr>\n",
       "    <tr>\n",
       "      <th>2</th>\n",
       "      <td>2.630505</td>\n",
       "    </tr>\n",
       "    <tr>\n",
       "      <th>3</th>\n",
       "      <td>2.506086</td>\n",
       "    </tr>\n",
       "    <tr>\n",
       "      <th>4</th>\n",
       "      <td>1.970574</td>\n",
       "    </tr>\n",
       "  </tbody>\n",
       "</table>\n",
       "</div>"
      ],
      "text/plain": [
       "   SalesInMillions\n",
       "0         1.497533\n",
       "1         2.368795\n",
       "2         2.630505\n",
       "3         2.506086\n",
       "4         1.970574"
      ]
     },
     "execution_count": 5,
     "metadata": {},
     "output_type": "execute_result"
    }
   ],
   "source": [
    "game_submit_df.head()"
   ]
  },
  {
   "cell_type": "markdown",
   "metadata": {},
   "source": [
    "## Feature Engineering"
   ]
  },
  {
   "cell_type": "code",
   "execution_count": 6,
   "metadata": {},
   "outputs": [
    {
     "name": "stdout",
     "output_type": "stream",
     "text": [
      "Index(['ID', 'CONSOLE', 'YEAR', 'CATEGORY', 'PUBLISHER', 'RATING',\n",
      "       'CRITICS_POINTS', 'USER_POINTS', 'SalesInMillions'],\n",
      "      dtype='object')\n",
      "[1988 1994 1997 1998 1999 2000 2001 2002 2003 2004 2005 2006 2007 2008\n",
      " 2009 2010 2011 2012 2013 2014 2015 2016 2017 2018 2019]\n"
     ]
    }
   ],
   "source": [
    "dataset = pd.concat([game_train_df, game_test_df], keys=[0,1])\n",
    "print(dataset.columns)\n",
    "print(np.unique(dataset['YEAR']))\n",
    "# print(dataset['CONSOLE'].unique())\n",
    "# print(dataset['CATEGORY'].unique())\n",
    "# print(dataset['PUBLISHER'].unique())"
   ]
  },
  {
   "cell_type": "code",
   "execution_count": 7,
   "metadata": {},
   "outputs": [],
   "source": [
    "num_years = lambda y: int(2020 - y)\n",
    "dataset['NUM_YEARS'] = dataset['YEAR'].apply(num_years)"
   ]
  },
  {
   "cell_type": "markdown",
   "metadata": {},
   "source": [
    "**Interaction features**"
   ]
  },
  {
   "cell_type": "code",
   "execution_count": 8,
   "metadata": {},
   "outputs": [],
   "source": [
    "interaction1 = dataset['CONSOLE'] +\"_\"+ dataset['CATEGORY']\n",
    "interaction2 = dataset['CONSOLE'] +\"_\"+ dataset['PUBLISHER']\n",
    "interaction3 = dataset['PUBLISHER'] +\"_\"+ dataset['CATEGORY']\n",
    "interaction4 = dataset['CONSOLE'] +\"_\"+ dataset['RATING']\n",
    "dataset['CN_CA'] = interaction1\n",
    "dataset['CN_PB'] = interaction2\n",
    "dataset['PB_CA'] = interaction3\n",
    "dataset['CN_RT'] = interaction4"
   ]
  },
  {
   "cell_type": "code",
   "execution_count": 9,
   "metadata": {},
   "outputs": [
    {
     "data": {
      "text/plain": [
       "Index(['ID', 'CONSOLE', 'YEAR', 'CATEGORY', 'PUBLISHER', 'RATING',\n",
       "       'CRITICS_POINTS', 'USER_POINTS', 'SalesInMillions', 'NUM_YEARS',\n",
       "       'CN_CA', 'CN_PB', 'PB_CA', 'CN_RT'],\n",
       "      dtype='object')"
      ]
     },
     "execution_count": 9,
     "metadata": {},
     "output_type": "execute_result"
    }
   ],
   "source": [
    "dataset.columns"
   ]
  },
  {
   "cell_type": "markdown",
   "metadata": {},
   "source": [
    "## Preprocessing"
   ]
  },
  {
   "cell_type": "code",
   "execution_count": 10,
   "metadata": {},
   "outputs": [
    {
     "name": "stdout",
     "output_type": "stream",
     "text": [
      "Size of the dataset : 5009\n",
      "Is there any null values : ID                    0\n",
      "CONSOLE               0\n",
      "YEAR                  0\n",
      "CATEGORY              0\n",
      "PUBLISHER             0\n",
      "RATING                0\n",
      "CRITICS_POINTS        0\n",
      "USER_POINTS           0\n",
      "SalesInMillions    1503\n",
      "NUM_YEARS             0\n",
      "CN_CA                 0\n",
      "CN_PB                 0\n",
      "PB_CA                 0\n",
      "CN_RT                 0\n",
      "dtype: int64\n",
      "Categorical columns : Index(['CONSOLE', 'CATEGORY', 'PUBLISHER', 'RATING', 'CN_CA', 'CN_PB', 'PB_CA',\n",
      "       'CN_RT'],\n",
      "      dtype='object')\n"
     ]
    }
   ],
   "source": [
    "print(f\"Size of the dataset : {dataset.shape[0]}\")\n",
    "print(f\"Is there any null values : {dataset.isnull().sum()}\")\n",
    "print(f\"Categorical columns : {dataset.select_dtypes(include=['object']).columns}\")"
   ]
  },
  {
   "cell_type": "code",
   "execution_count": 11,
   "metadata": {},
   "outputs": [
    {
     "name": "stdout",
     "output_type": "stream",
     "text": [
      "0.4294587381837518\n"
     ]
    }
   ],
   "source": [
    "y_target = np.log1p(game_train_df['SalesInMillions'])\n",
    "# y_target = boxcox(game_train_df['SalesInMillions'], lmbda=0.01)\n",
    "print(skew(y_target))\n",
    "# pwr_transformer = PowerTransformer()\n",
    "# y_train = pwr_transformer.fit_transform(game_train_df['SalesInMillions'].to_frame())"
   ]
  },
  {
   "cell_type": "code",
   "execution_count": 12,
   "metadata": {},
   "outputs": [
    {
     "data": {
      "image/png": "[encoded data removed]",
      "text/plain": [
       "<Figure size 864x432 with 2 Axes>"
      ]
     },
     "metadata": {},
     "output_type": "display_data"
    }
   ],
   "source": [
    "sns.set(style='whitegrid', palette='muted')\n",
    "fig, axes = plt.subplots(1,2,figsize=(12,6))\n",
    "sns.distplot(game_train_df['SalesInMillions'], kde=True, ax=axes[0])\n",
    "# sns.distplot(y_train, kde=True, ax=axes[1])\n",
    "sns.distplot(y_target, kde=True, ax=axes[1])\n",
    "axes[0].set_title(\"Skewed Y-Values\")\n",
    "axes[1].set_title(\"Normalized Y-Values\")\n",
    "plt.tight_layout()\n",
    "plt.show()"
   ]
  },
  {
   "cell_type": "markdown",
   "metadata": {},
   "source": [
    "## Label Encoding"
   ]
  },
  {
   "cell_type": "code",
   "execution_count": 363,
   "metadata": {},
   "outputs": [],
   "source": [
    "def prepare_label_encode(dataframe):\n",
    "    try:\n",
    "        # Making a copy of dataset\n",
    "        data_set = dataframe.copy()\n",
    "        \n",
    "        # Getting the categorical columns\n",
    "        cat_data = data_set.select_dtypes(include=['object'])\n",
    "        \n",
    "        # One-hot encoding on the category columns\n",
    "        X_encode = cat_data.apply(LabelEncoder().fit_transform)\n",
    "        \n",
    "        # Drop the date column\n",
    "        data_set.drop(cat_data.columns, inplace=True, axis=1)\n",
    "        \n",
    "        # Merge the data\n",
    "        data_set = pd.concat([data_set, X_encode], axis=1)\n",
    "        \n",
    "        return data_set\n",
    "    \n",
    "    except Exception as e:\n",
    "        print(f\"Error in encoding the category data: {e}\")"
   ]
  },
  {
   "cell_type": "code",
   "execution_count": 364,
   "metadata": {},
   "outputs": [],
   "source": [
    "dataset_enc = prepare_label_encode(dataset)"
   ]
  },
  {
   "cell_type": "code",
   "execution_count": 365,
   "metadata": {},
   "outputs": [
    {
     "data": {
      "image/png": "[encoded data removed]",
      "text/plain": [
       "<Figure size 864x432 with 2 Axes>"
      ]
     },
     "metadata": {},
     "output_type": "display_data"
    }
   ],
   "source": [
    "# Correlation between the numeric variables\n",
    "corr = dataset_enc.corr()\n",
    "plt.figure(figsize=(12,6))\n",
    "sns.heatmap(corr)\n",
    "plt.show()"
   ]
  },
  {
   "cell_type": "code",
   "execution_count": 366,
   "metadata": {},
   "outputs": [
    {
     "name": "stdout",
     "output_type": "stream",
     "text": [
      "SalesInMillions    1.000000\n",
      "CONSOLE            0.039715\n",
      "CN_PB              0.034745\n",
      "CN_CA              0.034740\n",
      "CN_RT              0.028043\n",
      "CATEGORY           0.026411\n",
      "YEAR               0.015476\n",
      "PB_CA             -0.004739\n",
      "PUBLISHER         -0.006652\n",
      "NUM_YEARS         -0.015476\n",
      "ID                -0.021986\n",
      "RATING            -0.058180\n",
      "CRITICS_POINTS    -0.102378\n",
      "USER_POINTS       -0.140307\n",
      "Name: SalesInMillions, dtype: float64 \n",
      "\n",
      "----------------------\n",
      "NUM_YEARS        -0.015476\n",
      "ID               -0.021986\n",
      "RATING           -0.058180\n",
      "CRITICS_POINTS   -0.102378\n",
      "USER_POINTS      -0.140307\n",
      "Name: SalesInMillions, dtype: float64\n"
     ]
    }
   ],
   "source": [
    "# corr['SalesInMillions'].sort_values()\n",
    "print (corr['SalesInMillions'].sort_values(ascending=False)[:15], '\\n') #top 15 values\n",
    "print ('----------------------')\n",
    "print (corr['SalesInMillions'].sort_values(ascending=False)[-5:]) #last 5 values`"
   ]
  },
  {
   "cell_type": "code",
   "execution_count": 367,
   "metadata": {},
   "outputs": [
    {
     "data": {
      "text/plain": [
       "Index(['ID', 'YEAR', 'CRITICS_POINTS', 'USER_POINTS', 'SalesInMillions',\n",
       "       'NUM_YEARS', 'CONSOLE', 'CATEGORY', 'PUBLISHER', 'RATING', 'CN_CA',\n",
       "       'CN_PB', 'PB_CA', 'CN_RT'],\n",
       "      dtype='object')"
      ]
     },
     "execution_count": 367,
     "metadata": {},
     "output_type": "execute_result"
    }
   ],
   "source": [
    "dataset_enc.columns"
   ]
  },
  {
   "cell_type": "code",
   "execution_count": 368,
   "metadata": {},
   "outputs": [],
   "source": [
    "# Getting back the Tran and Test data\n",
    "X_enc_train, X_enc_test = dataset_enc.xs(0), dataset_enc.xs(1)"
   ]
  },
  {
   "cell_type": "markdown",
   "metadata": {},
   "source": [
    "## Feature Selection"
   ]
  },
  {
   "cell_type": "code",
   "execution_count": 369,
   "metadata": {},
   "outputs": [
    {
     "data": {
      "text/plain": [
       "(3506, 14)"
      ]
     },
     "execution_count": 369,
     "metadata": {},
     "output_type": "execute_result"
    }
   ],
   "source": [
    "X_enc_train.shape"
   ]
  },
  {
   "cell_type": "code",
   "execution_count": 370,
   "metadata": {},
   "outputs": [],
   "source": [
    "X = X_enc_train.loc[:, X_enc_train.columns != 'SalesInMillions']\n",
    "y = X_enc_train.loc[:, X_enc_train.columns == 'SalesInMillions']"
   ]
  },
  {
   "cell_type": "code",
   "execution_count": 371,
   "metadata": {},
   "outputs": [
    {
     "name": "stdout",
     "output_type": "stream",
     "text": [
      "<class 'pandas.core.frame.DataFrame'>\n",
      "Int64Index: 3506 entries, 0 to 3505\n",
      "Data columns (total 13 columns):\n",
      " #   Column          Non-Null Count  Dtype  \n",
      "---  ------          --------------  -----  \n",
      " 0   ID              3506 non-null   int64  \n",
      " 1   YEAR            3506 non-null   int64  \n",
      " 2   CRITICS_POINTS  3506 non-null   float64\n",
      " 3   USER_POINTS     3506 non-null   float64\n",
      " 4   NUM_YEARS       3506 non-null   int64  \n",
      " 5   CONSOLE         3506 non-null   int32  \n",
      " 6   CATEGORY        3506 non-null   int32  \n",
      " 7   PUBLISHER       3506 non-null   int32  \n",
      " 8   RATING          3506 non-null   int32  \n",
      " 9   CN_CA           3506 non-null   int32  \n",
      " 10  CN_PB           3506 non-null   int32  \n",
      " 11  PB_CA           3506 non-null   int32  \n",
      " 12  CN_RT           3506 non-null   int32  \n",
      "dtypes: float64(2), int32(8), int64(3)\n",
      "memory usage: 273.9 KB\n"
     ]
    }
   ],
   "source": [
    "X.info()"
   ]
  },
  {
   "cell_type": "code",
   "execution_count": 372,
   "metadata": {},
   "outputs": [],
   "source": [
    "nCol = len(dataset.columns)\n",
    "best_col = SelectKBest(f_regression, k='all').fit(X, X_enc_train['SalesInMillions'])"
   ]
  },
  {
   "cell_type": "code",
   "execution_count": 373,
   "metadata": {},
   "outputs": [
    {
     "data": {
      "image/png": "[encoded data removed]",
      "text/plain": [
       "<Figure size 1152x432 with 1 Axes>"
      ]
     },
     "metadata": {},
     "output_type": "display_data"
    }
   ],
   "source": [
    "sns.set(style='whitegrid', palette='muted')\n",
    "# Get the indices sorted by most important to least important\n",
    "indices = np.argsort(best_col.scores_)[::-1]\n",
    "\n",
    "# To get your top 10 feature names\n",
    "features = []\n",
    "for i in range(12):\n",
    "    features.append(X.columns[indices[i]])\n",
    "\n",
    "# Now plot\n",
    "plt.figure(figsize=(16,6))\n",
    "sns.barplot(features, best_col.scores_[indices[range(12)]], color='r')\n",
    "plt.show()"
   ]
  },
  {
   "cell_type": "code",
   "execution_count": 135,
   "metadata": {},
   "outputs": [
    {
     "data": {
      "text/plain": [
       "Index(['ID', 'CONSOLE', 'YEAR', 'CATEGORY', 'PUBLISHER', 'RATING',\n",
       "       'CRITICS_POINTS', 'USER_POINTS', 'SalesInMillions', 'NUM_YEARS',\n",
       "       'CN_CA', 'CN_PB', 'PB_CA', 'CN_RT'],\n",
       "      dtype='object')"
      ]
     },
     "execution_count": 135,
     "metadata": {},
     "output_type": "execute_result"
    }
   ],
   "source": [
    "dataset.columns"
   ]
  },
  {
   "cell_type": "code",
   "execution_count": 374,
   "metadata": {},
   "outputs": [],
   "source": [
    "# best_cols = ['CRITICS_POINTS', 'USER_POINTS', 'CONSOLE','PUBLISHER','RATING','CATEGORY','CN_CA','CN_PB','CN_RT']\n",
    "# best_cols = ['CRITICS_POINTS', 'USER_POINTS','CONSOLE','NUM_YEARS','RATING']\n",
    "# best_cols = ['CRITICS_POINTS', 'USER_POINTS','CN_PB','CN_RT','CN_CA','CATEGORY','CONSOLE','YEAR']\n",
    "\n",
    "best_cols = ['CRITICS_POINTS', 'USER_POINTS','CONSOLE','NUM_YEARS','RATING','CN_PB','PB_CA','CN_RT','CN_CA','CATEGORY','ID']\n",
    "# best_cols = ['CRITICS_POINTS', 'USER_POINTS','CONSOLE','CN_PB','NUM_YEARS','RATING','CN_RT','CN_CA']"
   ]
  },
  {
   "cell_type": "code",
   "execution_count": 375,
   "metadata": {},
   "outputs": [
    {
     "data": {
      "text/html": [
       "<div>\n",
       "<style scoped>\n",
       "    .dataframe tbody tr th:only-of-type {\n",
       "        vertical-align: middle;\n",
       "    }\n",
       "\n",
       "    .dataframe tbody tr th {\n",
       "        vertical-align: top;\n",
       "    }\n",
       "\n",
       "    .dataframe thead th {\n",
       "        text-align: right;\n",
       "    }\n",
       "</style>\n",
       "<table border=\"1\" class=\"dataframe\">\n",
       "  <thead>\n",
       "    <tr style=\"text-align: right;\">\n",
       "      <th></th>\n",
       "      <th>CRITICS_POINTS</th>\n",
       "      <th>USER_POINTS</th>\n",
       "      <th>CONSOLE</th>\n",
       "      <th>NUM_YEARS</th>\n",
       "      <th>RATING</th>\n",
       "      <th>CN_PB</th>\n",
       "      <th>PB_CA</th>\n",
       "      <th>CN_RT</th>\n",
       "      <th>CN_CA</th>\n",
       "      <th>CATEGORY</th>\n",
       "      <th>ID</th>\n",
       "    </tr>\n",
       "  </thead>\n",
       "  <tbody>\n",
       "    <tr>\n",
       "      <th>0</th>\n",
       "      <td>2.833333</td>\n",
       "      <td>0.303704</td>\n",
       "      <td>2</td>\n",
       "      <td>12</td>\n",
       "      <td>1</td>\n",
       "      <td>69</td>\n",
       "      <td>413</td>\n",
       "      <td>6</td>\n",
       "      <td>24</td>\n",
       "      <td>7</td>\n",
       "      <td>2860</td>\n",
       "    </tr>\n",
       "    <tr>\n",
       "      <th>1</th>\n",
       "      <td>13.200000</td>\n",
       "      <td>1.640000</td>\n",
       "      <td>12</td>\n",
       "      <td>8</td>\n",
       "      <td>2</td>\n",
       "      <td>540</td>\n",
       "      <td>316</td>\n",
       "      <td>48</td>\n",
       "      <td>143</td>\n",
       "      <td>9</td>\n",
       "      <td>731</td>\n",
       "    </tr>\n",
       "    <tr>\n",
       "      <th>2</th>\n",
       "      <td>4.562500</td>\n",
       "      <td>0.006410</td>\n",
       "      <td>5</td>\n",
       "      <td>1</td>\n",
       "      <td>4</td>\n",
       "      <td>160</td>\n",
       "      <td>37</td>\n",
       "      <td>20</td>\n",
       "      <td>61</td>\n",
       "      <td>8</td>\n",
       "      <td>495</td>\n",
       "    </tr>\n",
       "    <tr>\n",
       "      <th>3</th>\n",
       "      <td>4.181818</td>\n",
       "      <td>0.326923</td>\n",
       "      <td>7</td>\n",
       "      <td>18</td>\n",
       "      <td>1</td>\n",
       "      <td>257</td>\n",
       "      <td>187</td>\n",
       "      <td>23</td>\n",
       "      <td>75</td>\n",
       "      <td>10</td>\n",
       "      <td>2641</td>\n",
       "    </tr>\n",
       "    <tr>\n",
       "      <th>4</th>\n",
       "      <td>2.259259</td>\n",
       "      <td>0.032579</td>\n",
       "      <td>8</td>\n",
       "      <td>7</td>\n",
       "      <td>4</td>\n",
       "      <td>316</td>\n",
       "      <td>30</td>\n",
       "      <td>29</td>\n",
       "      <td>77</td>\n",
       "      <td>0</td>\n",
       "      <td>811</td>\n",
       "    </tr>\n",
       "    <tr>\n",
       "      <th>5</th>\n",
       "      <td>2.571429</td>\n",
       "      <td>0.027707</td>\n",
       "      <td>7</td>\n",
       "      <td>16</td>\n",
       "      <td>1</td>\n",
       "      <td>294</td>\n",
       "      <td>510</td>\n",
       "      <td>23</td>\n",
       "      <td>69</td>\n",
       "      <td>4</td>\n",
       "      <td>1803</td>\n",
       "    </tr>\n",
       "    <tr>\n",
       "      <th>6</th>\n",
       "      <td>17.500000</td>\n",
       "      <td>0.464706</td>\n",
       "      <td>10</td>\n",
       "      <td>12</td>\n",
       "      <td>6</td>\n",
       "      <td>468</td>\n",
       "      <td>263</td>\n",
       "      <td>42</td>\n",
       "      <td>123</td>\n",
       "      <td>11</td>\n",
       "      <td>1470</td>\n",
       "    </tr>\n",
       "    <tr>\n",
       "      <th>7</th>\n",
       "      <td>1.627907</td>\n",
       "      <td>0.138636</td>\n",
       "      <td>8</td>\n",
       "      <td>6</td>\n",
       "      <td>6</td>\n",
       "      <td>320</td>\n",
       "      <td>59</td>\n",
       "      <td>30</td>\n",
       "      <td>83</td>\n",
       "      <td>6</td>\n",
       "      <td>3781</td>\n",
       "    </tr>\n",
       "    <tr>\n",
       "      <th>8</th>\n",
       "      <td>4.133333</td>\n",
       "      <td>0.265000</td>\n",
       "      <td>7</td>\n",
       "      <td>16</td>\n",
       "      <td>6</td>\n",
       "      <td>258</td>\n",
       "      <td>192</td>\n",
       "      <td>26</td>\n",
       "      <td>71</td>\n",
       "      <td>6</td>\n",
       "      <td>325</td>\n",
       "    </tr>\n",
       "    <tr>\n",
       "      <th>9</th>\n",
       "      <td>9.333333</td>\n",
       "      <td>0.032589</td>\n",
       "      <td>8</td>\n",
       "      <td>12</td>\n",
       "      <td>6</td>\n",
       "      <td>353</td>\n",
       "      <td>512</td>\n",
       "      <td>30</td>\n",
       "      <td>83</td>\n",
       "      <td>6</td>\n",
       "      <td>2380</td>\n",
       "    </tr>\n",
       "  </tbody>\n",
       "</table>\n",
       "</div>"
      ],
      "text/plain": [
       "   CRITICS_POINTS  USER_POINTS  CONSOLE  NUM_YEARS  RATING  CN_PB  PB_CA  \\\n",
       "0        2.833333     0.303704        2         12       1     69    413   \n",
       "1       13.200000     1.640000       12          8       2    540    316   \n",
       "2        4.562500     0.006410        5          1       4    160     37   \n",
       "3        4.181818     0.326923        7         18       1    257    187   \n",
       "4        2.259259     0.032579        8          7       4    316     30   \n",
       "5        2.571429     0.027707        7         16       1    294    510   \n",
       "6       17.500000     0.464706       10         12       6    468    263   \n",
       "7        1.627907     0.138636        8          6       6    320     59   \n",
       "8        4.133333     0.265000        7         16       6    258    192   \n",
       "9        9.333333     0.032589        8         12       6    353    512   \n",
       "\n",
       "   CN_RT  CN_CA  CATEGORY    ID  \n",
       "0      6     24         7  2860  \n",
       "1     48    143         9   731  \n",
       "2     20     61         8   495  \n",
       "3     23     75        10  2641  \n",
       "4     29     77         0   811  \n",
       "5     23     69         4  1803  \n",
       "6     42    123        11  1470  \n",
       "7     30     83         6  3781  \n",
       "8     26     71         6   325  \n",
       "9     30     83         6  2380  "
      ]
     },
     "execution_count": 375,
     "metadata": {},
     "output_type": "execute_result"
    }
   ],
   "source": [
    "X_enc_train[best_cols].head(10)\n"
   ]
  },
  {
   "cell_type": "code",
   "execution_count": 376,
   "metadata": {},
   "outputs": [],
   "source": [
    "# X = X_enc_train[best_cols].values\n",
    "# X_test = X_enc_test[best_cols].values\n",
    "# y = X_enc_train['SalesInMillions'].values\n",
    "X = X_enc_train[best_cols]\n",
    "X_test = X_enc_test[best_cols]\n",
    "y = X_enc_train['SalesInMillions']"
   ]
  },
  {
   "cell_type": "code",
   "execution_count": 275,
   "metadata": {},
   "outputs": [
    {
     "name": "stdout",
     "output_type": "stream",
     "text": [
      "Train (3506, 9) and test (1503, 9), y (3506,)\n"
     ]
    }
   ],
   "source": [
    "print(f\"Train {X.shape} and test {X_test.shape}, y {y.shape}\")"
   ]
  },
  {
   "cell_type": "markdown",
   "metadata": {},
   "source": [
    "## One Hot Encoding"
   ]
  },
  {
   "cell_type": "code",
   "execution_count": 415,
   "metadata": {},
   "outputs": [],
   "source": [
    "cat_col = ['CONSOLE', 'CATEGORY', 'PUBLISHER']\n",
    "# Getting the categorical columns\n",
    "cat_data = dataset[cat_col]\n",
    "\n",
    "# One-hot encoding\n",
    "X_encode = pd.get_dummies(cat_data, columns=cat_col)\n",
    "\n",
    "# Getting back the Tran and Test data\n",
    "X_enc_train, X_enc_test = X_encode.xs(0), X_encode.xs(1)"
   ]
  },
  {
   "cell_type": "code",
   "execution_count": 416,
   "metadata": {},
   "outputs": [
    {
     "data": {
      "text/plain": [
       "Index(['CONSOLE_3ds', 'CONSOLE_dc', 'CONSOLE_ds', 'CONSOLE_gba', 'CONSOLE_gc',\n",
       "       'CONSOLE_pc', 'CONSOLE_ps', 'CONSOLE_ps2', 'CONSOLE_ps3', 'CONSOLE_ps4',\n",
       "       ...\n",
       "       'PUBLISHER_Warner Bros. Interactive Entertainment',\n",
       "       'PUBLISHER_White Park Bay Software', 'PUBLISHER_Xicat Interactive',\n",
       "       'PUBLISHER_Xplosiv', 'PUBLISHER_Xs Games', 'PUBLISHER_Xseed Games',\n",
       "       'PUBLISHER_Yacht Club Games', 'PUBLISHER_Zoo Digital Publishing',\n",
       "       'PUBLISHER_Zoo Games', 'PUBLISHER_Zushi Games'],\n",
       "      dtype='object', length=262)"
      ]
     },
     "execution_count": 416,
     "metadata": {},
     "output_type": "execute_result"
    }
   ],
   "source": [
    "X_encode.columns"
   ]
  },
  {
   "cell_type": "code",
   "execution_count": 417,
   "metadata": {},
   "outputs": [
    {
     "data": {
      "text/plain": [
       "Index(['ID', 'YEAR', 'CRITICS_POINTS', 'USER_POINTS', 'SalesInMillions',\n",
       "       'NUM_YEARS', 'CONSOLE', 'CATEGORY', 'PUBLISHER', 'RATING', 'CN_CA',\n",
       "       'CN_PB', 'PB_CA', 'CN_RT'],\n",
       "      dtype='object')"
      ]
     },
     "execution_count": 417,
     "metadata": {},
     "output_type": "execute_result"
    }
   ],
   "source": [
    "dataset_enc.columns"
   ]
  },
  {
   "cell_type": "code",
   "execution_count": 418,
   "metadata": {},
   "outputs": [],
   "source": [
    "le_encoded = dataset_enc.drop(cat_col, axis=1)"
   ]
  },
  {
   "cell_type": "code",
   "execution_count": 419,
   "metadata": {},
   "outputs": [],
   "source": [
    "merged_data = pd.concat([le_encoded, X_encode], axis=1)"
   ]
  },
  {
   "cell_type": "code",
   "execution_count": 420,
   "metadata": {},
   "outputs": [],
   "source": [
    "# Getting back the Tran and Test data\n",
    "X_enc_train, X_enc_test = merged_data.xs(0), merged_data.xs(1)"
   ]
  },
  {
   "cell_type": "code",
   "execution_count": 421,
   "metadata": {},
   "outputs": [],
   "source": [
    "X = X_enc_train.loc[:, X_enc_train.columns != 'SalesInMillions']\n",
    "X_test = X_enc_test.loc[:, X_enc_train.columns != 'SalesInMillions']\n",
    "y = X_enc_train.loc[:, X_enc_train.columns == 'SalesInMillions']"
   ]
  },
  {
   "cell_type": "code",
   "execution_count": 422,
   "metadata": {},
   "outputs": [
    {
     "name": "stdout",
     "output_type": "stream",
     "text": [
      "(3506, 272) (1503, 272)\n"
     ]
    }
   ],
   "source": [
    "print(X.shape, X_test.shape)"
   ]
  },
  {
   "cell_type": "markdown",
   "metadata": {},
   "source": [
    "## Catboost"
   ]
  },
  {
   "cell_type": "code",
   "execution_count": 584,
   "metadata": {},
   "outputs": [],
   "source": [
    "lgb_params={\n",
    "    'learning_rate': 0.01,\n",
    "    'objective':'regression',\n",
    "    'metric':'rmse',\n",
    "    'num_leaves': 31,\n",
    "    'verbose': 1,\n",
    "    'bagging_fraction': 0.9,\n",
    "    'feature_fraction': 0.9,\n",
    "    \"random_state\":42,\n",
    "    'max_depth': 9,\n",
    "    \"bagging_seed\" : 42,\n",
    "    \"verbosity\" : -1,\n",
    "    \"bagging_frequency\" : 5,\n",
    "    'lambda_l2': 0.5,\n",
    "    'lambda_l1': 0.5,\n",
    "    'min_child_samples': 36\n",
    "   }\n",
    "\n",
    "xgb_params = {\n",
    "    'objective': 'reg:linear',\n",
    "    'booster': 'gbtree',\n",
    "    'learning_rate': 0.06,\n",
    "    'max_depth': 15,\n",
    "    'min_child_weight': 57,\n",
    "    'gamma' : 1.45,\n",
    "    'alpha': 0.0,\n",
    "    'lambda': 0.0,\n",
    "    'subsample': 0.67,\n",
    "    'colsample_bytree': 0.054,\n",
    "    'colsample_bylevel': 0.50,\n",
    "    'n_jobs': -1,\n",
    "    'random_state': 456\n",
    "}\n",
    "\n",
    "cat_param = {\n",
    "    'iterations':1150,\n",
    "    'learning_rate' :0.02,\n",
    "    'depth' :6,\n",
    "    'eval_metric' :'RMSE',\n",
    "    'od_type' :'Iter',\n",
    "    'metric_period' : 50,\n",
    "    'od_wait' : 20,\n",
    "    'random_seed' : 51,\n",
    "    'bagging_temperature':0.2\n",
    "}"
   ]
  },
  {
   "cell_type": "code",
   "execution_count": 585,
   "metadata": {},
   "outputs": [],
   "source": [
    "# Set up classifier\n",
    "cat = CatBoostRegressor(**cat_param)\n",
    "\n",
    "xgb = XGBRegressor(**xgb_params, n_estimators=600)\n",
    "\n",
    "lgbm_reg = LGBMRegressor(**lgb_params,n_estimators=1200)\n",
    "\n",
    "alphas = [0.001, 0.01, 0.1, 1, 10, 100]\n",
    "ridge_cv = RidgeCV(normalize=True, cv=5, alphas=alphas, gcv_mode='auto')\n",
    "# lasso_cv = LassoCV(normalize=True, alphas=[0.1,0.5], cv=5, random_state=0)\n",
    "\n",
    "#Initializing Linear Regression algorithm with Ridge regularizer(K-fold with 10 folds)\n",
    "# ridge_reg = TransformedTargetRegressor(regressor= lgbm_reg,\n",
    "#                                       func=np.log1p,\n",
    "#                                       inverse_func=np.expm1)\n",
    "ridge_reg = TransformedTargetRegressor(regressor= cat,\n",
    "                                      func=np.log1p,\n",
    "                                      inverse_func=np.expm1)"
   ]
  },
  {
   "cell_type": "code",
   "execution_count": 601,
   "metadata": {},
   "outputs": [],
   "source": [
    "X_train, X_valid, y_train, y_valid = train_test_split(X.values, y.values, test_size=0.24, random_state=42)"
   ]
  },
  {
   "cell_type": "code",
   "execution_count": 602,
   "metadata": {},
   "outputs": [
    {
     "name": "stdout",
     "output_type": "stream",
     "text": [
      "--------------------RidgeCV TTR--------------------\n",
      "0:\tlearn: 0.4941337\ttotal: 10.2ms\tremaining: 11.7s\n",
      "50:\tlearn: 0.4595190\ttotal: 164ms\tremaining: 3.54s\n",
      "100:\tlearn: 0.4435599\ttotal: 301ms\tremaining: 3.13s\n",
      "150:\tlearn: 0.4335890\ttotal: 440ms\tremaining: 2.91s\n",
      "200:\tlearn: 0.4267123\ttotal: 573ms\tremaining: 2.71s\n",
      "250:\tlearn: 0.4209826\ttotal: 717ms\tremaining: 2.57s\n",
      "300:\tlearn: 0.4154430\ttotal: 849ms\tremaining: 2.4s\n",
      "350:\tlearn: 0.4107884\ttotal: 996ms\tremaining: 2.27s\n",
      "400:\tlearn: 0.4062097\ttotal: 1.13s\tremaining: 2.12s\n",
      "450:\tlearn: 0.4015693\ttotal: 1.27s\tremaining: 1.98s\n",
      "500:\tlearn: 0.3975005\ttotal: 1.41s\tremaining: 1.83s\n",
      "550:\tlearn: 0.3937416\ttotal: 1.55s\tremaining: 1.69s\n",
      "600:\tlearn: 0.3899331\ttotal: 1.68s\tremaining: 1.54s\n",
      "650:\tlearn: 0.3858504\ttotal: 1.82s\tremaining: 1.4s\n",
      "700:\tlearn: 0.3818611\ttotal: 1.95s\tremaining: 1.25s\n",
      "750:\tlearn: 0.3786799\ttotal: 2.1s\tremaining: 1.11s\n",
      "800:\tlearn: 0.3755477\ttotal: 2.25s\tremaining: 979ms\n",
      "850:\tlearn: 0.3720760\ttotal: 2.39s\tremaining: 839ms\n",
      "900:\tlearn: 0.3689985\ttotal: 2.52s\tremaining: 696ms\n",
      "950:\tlearn: 0.3654031\ttotal: 2.66s\tremaining: 558ms\n",
      "1000:\tlearn: 0.3625354\ttotal: 2.8s\tremaining: 416ms\n",
      "1050:\tlearn: 0.3599227\ttotal: 2.93s\tremaining: 276ms\n",
      "1100:\tlearn: 0.3568427\ttotal: 3.07s\tremaining: 137ms\n",
      "1149:\tlearn: 0.3538372\ttotal: 3.21s\tremaining: 0us\n",
      "RMSE : 1.7050205982582134\n",
      "RMSLE : 0.43272143142120445\n"
     ]
    }
   ],
   "source": [
    "print(\"-\"*20 + \"RidgeCV TTR\"+ \"-\"*20)\n",
    "ridge_reg.fit(X_train, y_train)\n",
    "preds = ridge_reg.predict(X_valid)\n",
    "print(f\"RMSE : {mean_squared_error(y_valid, preds, squared=False)}\")\n",
    "print(f\"RMSLE : {np.sqrt(mean_squared_log_error(y_valid, preds))}\")"
   ]
  },
  {
   "cell_type": "code",
   "execution_count": 592,
   "metadata": {},
   "outputs": [
    {
     "name": "stdout",
     "output_type": "stream",
     "text": [
      "\n",
      "Fold  0\n",
      "--------------------Catboost Training--------------------\n",
      "0:\tlearn: 0.4950913\ttest: 0.4697972\tbest: 0.4697972 (0)\ttotal: 12.2ms\tremaining: 14s\n"
     ]
    },
    {
     "name": "stderr",
     "output_type": "stream",
     "text": [
      "Warning: Overfitting detector is active, thus evaluation metric is calculated on every iteration. 'metric_period' is ignored for evaluation metric.\n"
     ]
    },
    {
     "name": "stdout",
     "output_type": "stream",
     "text": [
      "100:\tlearn: 0.4428704\ttest: 0.4330817\tbest: 0.4330817 (100)\ttotal: 319ms\tremaining: 3.31s\n",
      "200:\tlearn: 0.4268477\ttest: 0.4288837\tbest: 0.4288629 (198)\ttotal: 607ms\tremaining: 2.87s\n",
      "300:\tlearn: 0.4167479\ttest: 0.4279884\tbest: 0.4279884 (300)\ttotal: 895ms\tremaining: 2.52s\n",
      "400:\tlearn: 0.4078806\ttest: 0.4278451\tbest: 0.4277675 (385)\ttotal: 1.19s\tremaining: 2.22s\n",
      "Stopped by overfitting detector  (50 iterations wait)\n",
      "\n",
      "bestTest = 0.4277674826\n",
      "bestIteration = 385\n",
      "\n",
      "Shrink model to first 386 iterations.\n",
      "\n",
      "Fold  1\n",
      "--------------------Catboost Training--------------------\n",
      "0:\tlearn: 0.4795785\ttest: 0.5307655\tbest: 0.5307655 (0)\ttotal: 4.58ms\tremaining: 5.26s\n"
     ]
    },
    {
     "name": "stderr",
     "output_type": "stream",
     "text": [
      "Warning: Overfitting detector is active, thus evaluation metric is calculated on every iteration. 'metric_period' is ignored for evaluation metric.\n"
     ]
    },
    {
     "name": "stdout",
     "output_type": "stream",
     "text": [
      "100:\tlearn: 0.4330362\ttest: 0.4893087\tbest: 0.4893087 (100)\ttotal: 288ms\tremaining: 3s\n",
      "200:\tlearn: 0.4174418\ttest: 0.4820318\tbest: 0.4820318 (200)\ttotal: 577ms\tremaining: 2.72s\n",
      "300:\tlearn: 0.4067263\ttest: 0.4795294\tbest: 0.4794826 (299)\ttotal: 938ms\tremaining: 2.65s\n",
      "400:\tlearn: 0.3973620\ttest: 0.4789088\tbest: 0.4789088 (400)\ttotal: 1.31s\tremaining: 2.44s\n",
      "500:\tlearn: 0.3896347\ttest: 0.4782613\tbest: 0.4782301 (494)\ttotal: 1.61s\tremaining: 2.08s\n",
      "600:\tlearn: 0.3827837\ttest: 0.4782173\tbest: 0.4780857 (563)\ttotal: 1.92s\tremaining: 1.75s\n",
      "Stopped by overfitting detector  (50 iterations wait)\n",
      "\n",
      "bestTest = 0.4780857156\n",
      "bestIteration = 563\n",
      "\n",
      "Shrink model to first 564 iterations.\n",
      "\n",
      "Fold  2\n",
      "--------------------Catboost Training--------------------\n",
      "0:\tlearn: 0.4926859\ttest: 0.4794308\tbest: 0.4794308 (0)\ttotal: 4.43ms\tremaining: 5.09s\n"
     ]
    },
    {
     "name": "stderr",
     "output_type": "stream",
     "text": [
      "Warning: Overfitting detector is active, thus evaluation metric is calculated on every iteration. 'metric_period' is ignored for evaluation metric.\n"
     ]
    },
    {
     "name": "stdout",
     "output_type": "stream",
     "text": [
      "100:\tlearn: 0.4407857\ttest: 0.4456763\tbest: 0.4456763 (100)\ttotal: 340ms\tremaining: 3.53s\n",
      "200:\tlearn: 0.4257566\ttest: 0.4395080\tbest: 0.4395080 (200)\ttotal: 631ms\tremaining: 2.98s\n",
      "300:\tlearn: 0.4159856\ttest: 0.4374252\tbest: 0.4374252 (300)\ttotal: 921ms\tremaining: 2.6s\n",
      "400:\tlearn: 0.4073373\ttest: 0.4357895\tbest: 0.4357895 (400)\ttotal: 1.26s\tremaining: 2.36s\n",
      "500:\tlearn: 0.3993060\ttest: 0.4352715\tbest: 0.4347835 (462)\ttotal: 1.54s\tremaining: 2s\n",
      "Stopped by overfitting detector  (50 iterations wait)\n",
      "\n",
      "bestTest = 0.4347835095\n",
      "bestIteration = 462\n",
      "\n",
      "Shrink model to first 463 iterations.\n",
      "\n",
      "Fold  3\n",
      "--------------------Catboost Training--------------------\n",
      "0:\tlearn: 0.4925428\ttest: 0.4805700\tbest: 0.4805700 (0)\ttotal: 6.96ms\tremaining: 8s\n"
     ]
    },
    {
     "name": "stderr",
     "output_type": "stream",
     "text": [
      "Warning: Overfitting detector is active, thus evaluation metric is calculated on every iteration. 'metric_period' is ignored for evaluation metric.\n"
     ]
    },
    {
     "name": "stdout",
     "output_type": "stream",
     "text": [
      "100:\tlearn: 0.4402913\ttest: 0.4459600\tbest: 0.4459600 (100)\ttotal: 327ms\tremaining: 3.4s\n",
      "200:\tlearn: 0.4248550\ttest: 0.4397240\tbest: 0.4397240 (200)\ttotal: 632ms\tremaining: 2.98s\n",
      "300:\tlearn: 0.4141863\ttest: 0.4384138\tbest: 0.4383836 (295)\ttotal: 982ms\tremaining: 2.77s\n",
      "400:\tlearn: 0.4044397\ttest: 0.4378413\tbest: 0.4378370 (394)\ttotal: 1.29s\tremaining: 2.41s\n",
      "Stopped by overfitting detector  (50 iterations wait)\n",
      "\n",
      "bestTest = 0.4378127508\n",
      "bestIteration = 402\n",
      "\n",
      "Shrink model to first 403 iterations.\n",
      "\n",
      "Fold  4\n",
      "--------------------Catboost Training--------------------\n",
      "0:\tlearn: 0.4901524\ttest: 0.4893166\tbest: 0.4893166 (0)\ttotal: 3.13ms\tremaining: 3.6s\n"
     ]
    },
    {
     "name": "stderr",
     "output_type": "stream",
     "text": [
      "Warning: Overfitting detector is active, thus evaluation metric is calculated on every iteration. 'metric_period' is ignored for evaluation metric.\n"
     ]
    },
    {
     "name": "stdout",
     "output_type": "stream",
     "text": [
      "100:\tlearn: 0.4383886\ttest: 0.4525242\tbest: 0.4525242 (100)\ttotal: 298ms\tremaining: 3.1s\n",
      "200:\tlearn: 0.4226158\ttest: 0.4480814\tbest: 0.4480814 (200)\ttotal: 587ms\tremaining: 2.77s\n",
      "300:\tlearn: 0.4128613\ttest: 0.4462651\tbest: 0.4462351 (292)\ttotal: 886ms\tremaining: 2.5s\n",
      "400:\tlearn: 0.4044431\ttest: 0.4459622\tbest: 0.4459007 (368)\ttotal: 1.19s\tremaining: 2.23s\n",
      "Stopped by overfitting detector  (50 iterations wait)\n",
      "\n",
      "bestTest = 0.4453754819\n",
      "bestIteration = 445\n",
      "\n",
      "Shrink model to first 446 iterations.\n"
     ]
    }
   ],
   "source": [
    "K = 5\n",
    "kf = KFold(n_splits=K, random_state=None, shuffle=False)\n",
    "\n",
    "for i, (train_index, test_index) in enumerate(kf.split(X_enc_train)):\n",
    "    \n",
    "    # Create data for this fold\n",
    "\n",
    "    y_train, y_valid = y.iloc[train_index], y.iloc[test_index]\n",
    "    X_train, X_valid = X.iloc[train_index,:], X.iloc[test_index,:]\n",
    "    print( \"\\nFold \", i)\n",
    "    \n",
    "    print(\"-\"* 20 + \"Catboost Training\" + \"-\"* 20)\n",
    "    cat.fit(X_train, np.log1p(y_train), \n",
    "            eval_set=[(X_valid, np.log1p(y_valid))],\n",
    "            early_stopping_rounds=50,\n",
    "            use_best_model=True,verbose=100)\n",
    "#     print(\"-\"*20 + \"RidgeCV TTR\"+ \"-\"*20)\n",
    "#     ridge_reg.fit(X_train, y_train)\n",
    "#     preds = ridge_reg.predict(X_valid)\n",
    "#     print(f\"RMSE : {mean_squared_error(y_valid, preds, squared=False)}\")\n",
    "#     print(f\"RMSLE : {np.sqrt(mean_squared_log_error(y_valid, preds))}\")\n",
    "#     print(\"-\"* 20 + \"XGboost Training\" + \"-\"* 20)\n",
    "#     xgb.fit(X_train, np.log1p(y_train),\n",
    "#             eval_set=[(X_valid, np.log1p(y_valid))],\n",
    "#             early_stopping_rounds=50,\n",
    "#             eval_metric='rmse',verbose=100)\n",
    "#     print(\"-\"* 20 + \"LGBM Training\" + \"-\"* 20)\n",
    "#     lgbm_reg.fit(X_train, np.log1p(y_train),\n",
    "#             eval_set=[(X_valid, np.log1p(y_valid))],\n",
    "#             early_stopping_rounds=50,\n",
    "#             eval_metric='rmse',verbose=100)"
   ]
  },
  {
   "cell_type": "markdown",
   "metadata": {},
   "source": [
    "## Prediction"
   ]
  },
  {
   "cell_type": "code",
   "execution_count": 603,
   "metadata": {},
   "outputs": [],
   "source": [
    "# print(cat.best_score_)\n",
    "# cat.get_params()\n",
    "predictions = ridge_reg.predict(X_test)\n",
    "# print(xgb.best_score)\n",
    "# xgb.get_params()\n",
    "# print(lgbm_reg.best_score_)\n",
    "# lgbm_reg.get_params()"
   ]
  },
  {
   "cell_type": "code",
   "execution_count": 604,
   "metadata": {},
   "outputs": [
    {
     "data": {
      "text/plain": [
       "array([1.27693043, 1.90757666, 2.75207811, ..., 1.36756994, 1.94270754,\n",
       "       2.15060683])"
      ]
     },
     "execution_count": 604,
     "metadata": {},
     "output_type": "execute_result"
    }
   ],
   "source": [
    "# predictions = inv_boxcox(cat.predict(X_test), 0.01)\n",
    "# predictions = np.expm1(cat.predict(X_test))\n",
    "# predictions = np.expm1(lgbm_reg.predict(X_test))\n",
    "predictions[:,0]"
   ]
  },
  {
   "cell_type": "code",
   "execution_count": 605,
   "metadata": {},
   "outputs": [],
   "source": [
    "final_df = pd.DataFrame({'SalesInMillions': predictions[:,0]}, index=X_enc_test.index)\n",
    "\n",
    "# final_df['SalesInMillions'] = final_df.apply(lambda x: round(x, 6))\n",
    "final_df.to_csv('./output/game_sales_venkat_cgb_07.csv', float_format='%.6f', index=False)\n"
   ]
  },
  {
   "cell_type": "code",
   "execution_count": null,
   "metadata": {},
   "outputs": [],
   "source": []
  }
 ],
 "metadata": {
  "kernelspec": {
   "display_name": "hackenv",
   "language": "python",
   "name": "hackenv"
  },
  "language_info": {
   "codemirror_mode": {
    "name": "ipython",
    "version": 3
   },
   "file_extension": ".py",
   "mimetype": "text/x-python",
   "name": "python",
   "nbconvert_exporter": "python",
   "pygments_lexer": "ipython3",
   "version": "3.7.0"
  }
 },
 "nbformat": 4,
 "nbformat_minor": 2
}
