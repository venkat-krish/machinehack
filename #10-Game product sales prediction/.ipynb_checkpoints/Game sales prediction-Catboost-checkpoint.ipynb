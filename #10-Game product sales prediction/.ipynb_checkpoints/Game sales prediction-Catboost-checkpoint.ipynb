{
 "cells": [
  {
   "cell_type": "markdown",
   "metadata": {},
   "source": [
    "# Game sales prediction-Catboost"
   ]
  },
  {
   "cell_type": "markdown",
   "metadata": {},
   "source": [
    "## Overview\n",
    "The gaming industry is certainly one of the thriving industries of the modern age and one of those that are most influenced by the advancement in technology. With the availability of technologies like AR/VR in consumer products like gaming consoles and even smartphones, the gaming sector shows great potential. In this hackathon, you as a data scientist must use your analytical skills to predict the sales of video games depending on given factors. Given are 8 distinguishing factors that can influence the sales of a video game. Your objective as a data scientist is to build a machine learning model that can accurately predict the sales in millions of units for a given game."
   ]
  },
  {
   "cell_type": "markdown",
   "metadata": {},
   "source": [
    "## Import Libraries"
   ]
  },
  {
   "cell_type": "code",
   "execution_count": 1,
   "metadata": {},
   "outputs": [],
   "source": [
    "import pandas as pd\n",
    "import numpy as np\n",
    "import os\n",
    "\n",
    "import matplotlib.pyplot as plt\n",
    "import seaborn as sns\n",
    "\n",
    "from scipy.stats import boxcox, skew\n",
    "from scipy.special import inv_boxcox\n",
    "from catboost import CatBoostRegressor\n",
    "from xgboost import XGBRegressor\n",
    "# Import LightGBM\n",
    "from lightgbm import LGBMRegressor\n",
    "\n",
    "from sklearn.preprocessing import PowerTransformer, StandardScaler, RobustScaler\n",
    "from sklearn.feature_selection import SelectKBest, f_regression\n",
    "from sklearn.model_selection import KFold\n",
    "# Linear Regression Model\n",
    "from sklearn.linear_model import LinearRegression, RidgeCV, LassoCV\n",
    "from sklearn.preprocessing import LabelEncoder, OneHotEncoder\n",
    "from sklearn.compose import TransformedTargetRegressor\n",
    "from sklearn.utils import shuffle\n",
    "\n"
   ]
  },
  {
   "cell_type": "markdown",
   "metadata": {},
   "source": [
    "## Loading Dataset"
   ]
  },
  {
   "cell_type": "code",
   "execution_count": 2,
   "metadata": {},
   "outputs": [],
   "source": [
    "game_train_df = pd.read_csv('./data/Train.csv', header=0)\n",
    "game_test_df = pd.read_csv('./data/Test.csv', header=0)\n",
    "game_submit_df = pd.read_csv('./data/Sample_Submission.csv', header=0)"
   ]
  },
  {
   "cell_type": "code",
   "execution_count": 3,
   "metadata": {},
   "outputs": [
    {
     "name": "stdout",
     "output_type": "stream",
     "text": [
      "<class 'pandas.core.frame.DataFrame'>\n",
      "RangeIndex: 3506 entries, 0 to 3505\n",
      "Data columns (total 9 columns):\n",
      " #   Column           Non-Null Count  Dtype  \n",
      "---  ------           --------------  -----  \n",
      " 0   ID               3506 non-null   int64  \n",
      " 1   CONSOLE          3506 non-null   object \n",
      " 2   YEAR             3506 non-null   int64  \n",
      " 3   CATEGORY         3506 non-null   object \n",
      " 4   PUBLISHER        3506 non-null   object \n",
      " 5   RATING           3506 non-null   object \n",
      " 6   CRITICS_POINTS   3506 non-null   float64\n",
      " 7   USER_POINTS      3506 non-null   float64\n",
      " 8   SalesInMillions  3506 non-null   float64\n",
      "dtypes: float64(3), int64(2), object(4)\n",
      "memory usage: 246.6+ KB\n",
      "--------------------------------------------------------------------------------\n"
     ]
    },
    {
     "data": {
      "text/html": [
       "<div>\n",
       "<style scoped>\n",
       "    .dataframe tbody tr th:only-of-type {\n",
       "        vertical-align: middle;\n",
       "    }\n",
       "\n",
       "    .dataframe tbody tr th {\n",
       "        vertical-align: top;\n",
       "    }\n",
       "\n",
       "    .dataframe thead th {\n",
       "        text-align: right;\n",
       "    }\n",
       "</style>\n",
       "<table border=\"1\" class=\"dataframe\">\n",
       "  <thead>\n",
       "    <tr style=\"text-align: right;\">\n",
       "      <th></th>\n",
       "      <th>ID</th>\n",
       "      <th>CONSOLE</th>\n",
       "      <th>YEAR</th>\n",
       "      <th>CATEGORY</th>\n",
       "      <th>PUBLISHER</th>\n",
       "      <th>RATING</th>\n",
       "      <th>CRITICS_POINTS</th>\n",
       "      <th>USER_POINTS</th>\n",
       "      <th>SalesInMillions</th>\n",
       "    </tr>\n",
       "  </thead>\n",
       "  <tbody>\n",
       "    <tr>\n",
       "      <th>0</th>\n",
       "      <td>2860</td>\n",
       "      <td>ds</td>\n",
       "      <td>2008</td>\n",
       "      <td>role-playing</td>\n",
       "      <td>Nintendo</td>\n",
       "      <td>E</td>\n",
       "      <td>2.833333</td>\n",
       "      <td>0.303704</td>\n",
       "      <td>1.779257</td>\n",
       "    </tr>\n",
       "    <tr>\n",
       "      <th>1</th>\n",
       "      <td>731</td>\n",
       "      <td>wii</td>\n",
       "      <td>2012</td>\n",
       "      <td>simulation</td>\n",
       "      <td>Konami Digital Entertainment</td>\n",
       "      <td>E10+</td>\n",
       "      <td>13.200000</td>\n",
       "      <td>1.640000</td>\n",
       "      <td>0.215050</td>\n",
       "    </tr>\n",
       "    <tr>\n",
       "      <th>2</th>\n",
       "      <td>495</td>\n",
       "      <td>pc</td>\n",
       "      <td>2019</td>\n",
       "      <td>shooter</td>\n",
       "      <td>Activision</td>\n",
       "      <td>M</td>\n",
       "      <td>4.562500</td>\n",
       "      <td>0.006410</td>\n",
       "      <td>0.534402</td>\n",
       "    </tr>\n",
       "    <tr>\n",
       "      <th>3</th>\n",
       "      <td>2641</td>\n",
       "      <td>ps2</td>\n",
       "      <td>2002</td>\n",
       "      <td>sports</td>\n",
       "      <td>Electronic Arts</td>\n",
       "      <td>E</td>\n",
       "      <td>4.181818</td>\n",
       "      <td>0.326923</td>\n",
       "      <td>1.383964</td>\n",
       "    </tr>\n",
       "    <tr>\n",
       "      <th>4</th>\n",
       "      <td>811</td>\n",
       "      <td>ps3</td>\n",
       "      <td>2013</td>\n",
       "      <td>action</td>\n",
       "      <td>Activision</td>\n",
       "      <td>M</td>\n",
       "      <td>2.259259</td>\n",
       "      <td>0.032579</td>\n",
       "      <td>0.082671</td>\n",
       "    </tr>\n",
       "  </tbody>\n",
       "</table>\n",
       "</div>"
      ],
      "text/plain": [
       "     ID CONSOLE  YEAR      CATEGORY                     PUBLISHER RATING  \\\n",
       "0  2860      ds  2008  role-playing                      Nintendo      E   \n",
       "1   731     wii  2012    simulation  Konami Digital Entertainment   E10+   \n",
       "2   495      pc  2019       shooter                    Activision      M   \n",
       "3  2641     ps2  2002        sports               Electronic Arts      E   \n",
       "4   811     ps3  2013        action                    Activision      M   \n",
       "\n",
       "   CRITICS_POINTS  USER_POINTS  SalesInMillions  \n",
       "0        2.833333     0.303704         1.779257  \n",
       "1       13.200000     1.640000         0.215050  \n",
       "2        4.562500     0.006410         0.534402  \n",
       "3        4.181818     0.326923         1.383964  \n",
       "4        2.259259     0.032579         0.082671  "
      ]
     },
     "execution_count": 3,
     "metadata": {},
     "output_type": "execute_result"
    }
   ],
   "source": [
    "game_train_df.info()\n",
    "print(\"--\"*40)\n",
    "game_train_df.head()"
   ]
  },
  {
   "cell_type": "code",
   "execution_count": 4,
   "metadata": {},
   "outputs": [
    {
     "name": "stdout",
     "output_type": "stream",
     "text": [
      "<class 'pandas.core.frame.DataFrame'>\n",
      "RangeIndex: 1503 entries, 0 to 1502\n",
      "Data columns (total 8 columns):\n",
      " #   Column          Non-Null Count  Dtype  \n",
      "---  ------          --------------  -----  \n",
      " 0   ID              1503 non-null   int64  \n",
      " 1   CONSOLE         1503 non-null   object \n",
      " 2   YEAR            1503 non-null   int64  \n",
      " 3   CATEGORY        1503 non-null   object \n",
      " 4   PUBLISHER       1503 non-null   object \n",
      " 5   RATING          1503 non-null   object \n",
      " 6   CRITICS_POINTS  1503 non-null   float64\n",
      " 7   USER_POINTS     1503 non-null   float64\n",
      "dtypes: float64(2), int64(2), object(4)\n",
      "memory usage: 94.1+ KB\n",
      "--------------------------------------------------------------------------------\n"
     ]
    },
    {
     "data": {
      "text/html": [
       "<div>\n",
       "<style scoped>\n",
       "    .dataframe tbody tr th:only-of-type {\n",
       "        vertical-align: middle;\n",
       "    }\n",
       "\n",
       "    .dataframe tbody tr th {\n",
       "        vertical-align: top;\n",
       "    }\n",
       "\n",
       "    .dataframe thead th {\n",
       "        text-align: right;\n",
       "    }\n",
       "</style>\n",
       "<table border=\"1\" class=\"dataframe\">\n",
       "  <thead>\n",
       "    <tr style=\"text-align: right;\">\n",
       "      <th></th>\n",
       "      <th>ID</th>\n",
       "      <th>CONSOLE</th>\n",
       "      <th>YEAR</th>\n",
       "      <th>CATEGORY</th>\n",
       "      <th>PUBLISHER</th>\n",
       "      <th>RATING</th>\n",
       "      <th>CRITICS_POINTS</th>\n",
       "      <th>USER_POINTS</th>\n",
       "    </tr>\n",
       "  </thead>\n",
       "  <tbody>\n",
       "    <tr>\n",
       "      <th>0</th>\n",
       "      <td>4310</td>\n",
       "      <td>ps2</td>\n",
       "      <td>2008</td>\n",
       "      <td>action</td>\n",
       "      <td>Tecmo Koei</td>\n",
       "      <td>T</td>\n",
       "      <td>3.928571</td>\n",
       "      <td>0.482353</td>\n",
       "    </tr>\n",
       "    <tr>\n",
       "      <th>1</th>\n",
       "      <td>4011</td>\n",
       "      <td>psp</td>\n",
       "      <td>2007</td>\n",
       "      <td>strategy</td>\n",
       "      <td>Atari</td>\n",
       "      <td>E10+</td>\n",
       "      <td>5.538462</td>\n",
       "      <td>0.071795</td>\n",
       "    </tr>\n",
       "    <tr>\n",
       "      <th>2</th>\n",
       "      <td>2185</td>\n",
       "      <td>ps2</td>\n",
       "      <td>2004</td>\n",
       "      <td>shooter</td>\n",
       "      <td>Electronic Arts</td>\n",
       "      <td>T</td>\n",
       "      <td>3.034483</td>\n",
       "      <td>0.062044</td>\n",
       "    </tr>\n",
       "    <tr>\n",
       "      <th>3</th>\n",
       "      <td>1644</td>\n",
       "      <td>x</td>\n",
       "      <td>2006</td>\n",
       "      <td>action</td>\n",
       "      <td>Electronic Arts</td>\n",
       "      <td>E</td>\n",
       "      <td>2.913043</td>\n",
       "      <td>0.880000</td>\n",
       "    </tr>\n",
       "    <tr>\n",
       "      <th>4</th>\n",
       "      <td>188</td>\n",
       "      <td>3ds</td>\n",
       "      <td>2011</td>\n",
       "      <td>racing</td>\n",
       "      <td>Ubisoft</td>\n",
       "      <td>E10+</td>\n",
       "      <td>1.162162</td>\n",
       "      <td>0.183333</td>\n",
       "    </tr>\n",
       "  </tbody>\n",
       "</table>\n",
       "</div>"
      ],
      "text/plain": [
       "     ID CONSOLE  YEAR  CATEGORY        PUBLISHER RATING  CRITICS_POINTS  \\\n",
       "0  4310     ps2  2008    action       Tecmo Koei      T        3.928571   \n",
       "1  4011     psp  2007  strategy            Atari   E10+        5.538462   \n",
       "2  2185     ps2  2004   shooter  Electronic Arts      T        3.034483   \n",
       "3  1644       x  2006    action  Electronic Arts      E        2.913043   \n",
       "4   188     3ds  2011    racing          Ubisoft   E10+        1.162162   \n",
       "\n",
       "   USER_POINTS  \n",
       "0     0.482353  \n",
       "1     0.071795  \n",
       "2     0.062044  \n",
       "3     0.880000  \n",
       "4     0.183333  "
      ]
     },
     "execution_count": 4,
     "metadata": {},
     "output_type": "execute_result"
    }
   ],
   "source": [
    "game_test_df.info()\n",
    "print('--'*40)\n",
    "game_test_df.head()"
   ]
  },
  {
   "cell_type": "code",
   "execution_count": 5,
   "metadata": {},
   "outputs": [
    {
     "data": {
      "text/html": [
       "<div>\n",
       "<style scoped>\n",
       "    .dataframe tbody tr th:only-of-type {\n",
       "        vertical-align: middle;\n",
       "    }\n",
       "\n",
       "    .dataframe tbody tr th {\n",
       "        vertical-align: top;\n",
       "    }\n",
       "\n",
       "    .dataframe thead th {\n",
       "        text-align: right;\n",
       "    }\n",
       "</style>\n",
       "<table border=\"1\" class=\"dataframe\">\n",
       "  <thead>\n",
       "    <tr style=\"text-align: right;\">\n",
       "      <th></th>\n",
       "      <th>SalesInMillions</th>\n",
       "    </tr>\n",
       "  </thead>\n",
       "  <tbody>\n",
       "    <tr>\n",
       "      <th>0</th>\n",
       "      <td>1.497533</td>\n",
       "    </tr>\n",
       "    <tr>\n",
       "      <th>1</th>\n",
       "      <td>2.368795</td>\n",
       "    </tr>\n",
       "    <tr>\n",
       "      <th>2</th>\n",
       "      <td>2.630505</td>\n",
       "    </tr>\n",
       "    <tr>\n",
       "      <th>3</th>\n",
       "      <td>2.506086</td>\n",
       "    </tr>\n",
       "    <tr>\n",
       "      <th>4</th>\n",
       "      <td>1.970574</td>\n",
       "    </tr>\n",
       "  </tbody>\n",
       "</table>\n",
       "</div>"
      ],
      "text/plain": [
       "   SalesInMillions\n",
       "0         1.497533\n",
       "1         2.368795\n",
       "2         2.630505\n",
       "3         2.506086\n",
       "4         1.970574"
      ]
     },
     "execution_count": 5,
     "metadata": {},
     "output_type": "execute_result"
    }
   ],
   "source": [
    "game_submit_df.head()"
   ]
  },
  {
   "cell_type": "markdown",
   "metadata": {},
   "source": [
    "## Feature Engineering"
   ]
  },
  {
   "cell_type": "code",
   "execution_count": 8,
   "metadata": {},
   "outputs": [
    {
     "name": "stdout",
     "output_type": "stream",
     "text": [
      "Index(['ID', 'CONSOLE', 'YEAR', 'CATEGORY', 'PUBLISHER', 'RATING',\n",
      "       'CRITICS_POINTS', 'USER_POINTS', 'SalesInMillions'],\n",
      "      dtype='object')\n",
      "[1988 1994 1997 1998 1999 2000 2001 2002 2003 2004 2005 2006 2007 2008\n",
      " 2009 2010 2011 2012 2013 2014 2015 2016 2017 2018 2019]\n"
     ]
    }
   ],
   "source": [
    "dataset = pd.concat([game_train_df, game_test_df], keys=[0,1])\n",
    "print(dataset.columns)\n",
    "print(np.unique(dataset['YEAR']))\n",
    "# print(dataset['CONSOLE'].unique())\n",
    "# print(dataset['CATEGORY'].unique())\n",
    "# print(dataset['PUBLISHER'].unique())"
   ]
  },
  {
   "cell_type": "code",
   "execution_count": 9,
   "metadata": {},
   "outputs": [],
   "source": [
    "num_years = lambda y: int(2020 - y)\n",
    "dataset['NUM_YEARS'] = dataset['YEAR'].apply(num_years)"
   ]
  },
  {
   "cell_type": "markdown",
   "metadata": {},
   "source": [
    "**Interaction features**"
   ]
  },
  {
   "cell_type": "code",
   "execution_count": 10,
   "metadata": {},
   "outputs": [],
   "source": [
    "interaction1 = dataset['CONSOLE'] +\"_\"+ dataset['CATEGORY']\n",
    "interaction2 = dataset['CONSOLE'] +\"_\"+ dataset['PUBLISHER']\n",
    "interaction3 = dataset['PUBLISHER'] +\"_\"+ dataset['CATEGORY']\n",
    "interaction4 = dataset['CONSOLE'] +\"_\"+ dataset['RATING']\n",
    "dataset['CN_CA'] = interaction1\n",
    "dataset['CN_PB'] = interaction2\n",
    "dataset['PB_CA'] = interaction3\n",
    "dataset['CN_RT'] = interaction4"
   ]
  },
  {
   "cell_type": "code",
   "execution_count": 11,
   "metadata": {},
   "outputs": [
    {
     "data": {
      "text/plain": [
       "Index(['ID', 'CONSOLE', 'YEAR', 'CATEGORY', 'PUBLISHER', 'RATING',\n",
       "       'CRITICS_POINTS', 'USER_POINTS', 'SalesInMillions', 'NUM_YEARS',\n",
       "       'CN_CA', 'CN_PB', 'PB_CA', 'CN_RT'],\n",
       "      dtype='object')"
      ]
     },
     "execution_count": 11,
     "metadata": {},
     "output_type": "execute_result"
    }
   ],
   "source": [
    "dataset.columns"
   ]
  },
  {
   "cell_type": "markdown",
   "metadata": {},
   "source": [
    "## Preprocessing"
   ]
  },
  {
   "cell_type": "code",
   "execution_count": 12,
   "metadata": {},
   "outputs": [
    {
     "name": "stdout",
     "output_type": "stream",
     "text": [
      "Size of the dataset : 5009\n",
      "Is there any null values : ID                    0\n",
      "CONSOLE               0\n",
      "YEAR                  0\n",
      "CATEGORY              0\n",
      "PUBLISHER             0\n",
      "RATING                0\n",
      "CRITICS_POINTS        0\n",
      "USER_POINTS           0\n",
      "SalesInMillions    1503\n",
      "NUM_YEARS             0\n",
      "CN_CA                 0\n",
      "CN_PB                 0\n",
      "PB_CA                 0\n",
      "CN_RT                 0\n",
      "dtype: int64\n",
      "Categorical columns : Index(['CONSOLE', 'CATEGORY', 'PUBLISHER', 'RATING', 'CN_CA', 'CN_PB', 'PB_CA',\n",
      "       'CN_RT'],\n",
      "      dtype='object')\n"
     ]
    }
   ],
   "source": [
    "print(f\"Size of the dataset : {dataset.shape[0]}\")\n",
    "print(f\"Is there any null values : {dataset.isnull().sum()}\")\n",
    "print(f\"Categorical columns : {dataset.select_dtypes(include=['object']).columns}\")"
   ]
  },
  {
   "cell_type": "code",
   "execution_count": 13,
   "metadata": {},
   "outputs": [
    {
     "name": "stdout",
     "output_type": "stream",
     "text": [
      "0.4294587381837518\n"
     ]
    }
   ],
   "source": [
    "y_target = np.log1p(game_train_df['SalesInMillions'])\n",
    "# y_target = boxcox(game_train_df['SalesInMillions'], lmbda=0.01)\n",
    "print(skew(y_target))\n",
    "# pwr_transformer = PowerTransformer()\n",
    "# y_train = pwr_transformer.fit_transform(game_train_df['SalesInMillions'].to_frame())"
   ]
  },
  {
   "cell_type": "code",
   "execution_count": 14,
   "metadata": {},
   "outputs": [
    {
     "data": {
      "image/png": "[encoded data removed]",
      "text/plain": [
       "<Figure size 864x432 with 2 Axes>"
      ]
     },
     "metadata": {},
     "output_type": "display_data"
    }
   ],
   "source": [
    "sns.set(style='whitegrid', palette='muted')\n",
    "fig, axes = plt.subplots(1,2,figsize=(12,6))\n",
    "sns.distplot(game_train_df['SalesInMillions'], kde=True, ax=axes[0])\n",
    "# sns.distplot(y_train, kde=True, ax=axes[1])\n",
    "sns.distplot(y_target, kde=True, ax=axes[1])\n",
    "axes[0].set_title(\"Skewed Y-Values\")\n",
    "axes[1].set_title(\"Normalized Y-Values\")\n",
    "plt.tight_layout()\n",
    "plt.show()"
   ]
  },
  {
   "cell_type": "markdown",
   "metadata": {},
   "source": [
    "## Label Encoding"
   ]
  },
  {
   "cell_type": "code",
   "execution_count": 16,
   "metadata": {},
   "outputs": [],
   "source": [
    "def prepare_label_encode(dataframe):\n",
    "    try:\n",
    "        # Making a copy of dataset\n",
    "        data_set = dataframe.copy()\n",
    "        \n",
    "        # Getting the categorical columns\n",
    "        cat_data = data_set.select_dtypes(include=['object'])\n",
    "        \n",
    "        # One-hot encoding on the category columns\n",
    "        X_encode = cat_data.apply(LabelEncoder().fit_transform)\n",
    "        \n",
    "        # Drop the date column\n",
    "        data_set.drop(cat_data.columns, inplace=True, axis=1)\n",
    "        \n",
    "        # Merge the data\n",
    "        data_set = pd.concat([data_set, X_encode], axis=1)\n",
    "        \n",
    "        return data_set\n",
    "    \n",
    "    except Exception as e:\n",
    "        print(f\"Error in encoding the category data: {e}\")"
   ]
  },
  {
   "cell_type": "code",
   "execution_count": 17,
   "metadata": {},
   "outputs": [],
   "source": [
    "dataset_enc = prepare_label_encode(dataset)"
   ]
  },
  {
   "cell_type": "code",
   "execution_count": 18,
   "metadata": {},
   "outputs": [
    {
     "data": {
      "text/plain": [
       "Index(['ID', 'YEAR', 'CRITICS_POINTS', 'USER_POINTS', 'SalesInMillions',\n",
       "       'NUM_YEARS', 'CONSOLE', 'CATEGORY', 'PUBLISHER', 'RATING', 'CN_CA',\n",
       "       'CN_PB', 'PB_CA', 'CN_RT'],\n",
       "      dtype='object')"
      ]
     },
     "execution_count": 18,
     "metadata": {},
     "output_type": "execute_result"
    }
   ],
   "source": [
    "dataset_enc.columns"
   ]
  },
  {
   "cell_type": "code",
   "execution_count": 19,
   "metadata": {},
   "outputs": [],
   "source": [
    "# Getting back the Tran and Test data\n",
    "X_enc_train, X_enc_test = dataset_enc.xs(0), dataset_enc.xs(1)"
   ]
  },
  {
   "cell_type": "markdown",
   "metadata": {},
   "source": [
    "## Feature Selection"
   ]
  },
  {
   "cell_type": "code",
   "execution_count": 20,
   "metadata": {},
   "outputs": [
    {
     "data": {
      "text/plain": [
       "(3506, 14)"
      ]
     },
     "execution_count": 20,
     "metadata": {},
     "output_type": "execute_result"
    }
   ],
   "source": [
    "X_enc_train.shape"
   ]
  },
  {
   "cell_type": "code",
   "execution_count": 21,
   "metadata": {},
   "outputs": [],
   "source": [
    "X = X_enc_train.loc[:, X_enc_train.columns != 'SalesInMillions']\n",
    "y = X_enc_train.loc[:, X_enc_train.columns == 'SalesInMillions']"
   ]
  },
  {
   "cell_type": "code",
   "execution_count": 22,
   "metadata": {},
   "outputs": [
    {
     "name": "stdout",
     "output_type": "stream",
     "text": [
      "<class 'pandas.core.frame.DataFrame'>\n",
      "Int64Index: 3506 entries, 0 to 3505\n",
      "Data columns (total 13 columns):\n",
      " #   Column          Non-Null Count  Dtype  \n",
      "---  ------          --------------  -----  \n",
      " 0   ID              3506 non-null   int64  \n",
      " 1   YEAR            3506 non-null   int64  \n",
      " 2   CRITICS_POINTS  3506 non-null   float64\n",
      " 3   USER_POINTS     3506 non-null   float64\n",
      " 4   NUM_YEARS       3506 non-null   int64  \n",
      " 5   CONSOLE         3506 non-null   int32  \n",
      " 6   CATEGORY        3506 non-null   int32  \n",
      " 7   PUBLISHER       3506 non-null   int32  \n",
      " 8   RATING          3506 non-null   int32  \n",
      " 9   CN_CA           3506 non-null   int32  \n",
      " 10  CN_PB           3506 non-null   int32  \n",
      " 11  PB_CA           3506 non-null   int32  \n",
      " 12  CN_RT           3506 non-null   int32  \n",
      "dtypes: float64(2), int32(8), int64(3)\n",
      "memory usage: 273.9 KB\n"
     ]
    }
   ],
   "source": [
    "X.info()"
   ]
  },
  {
   "cell_type": "code",
   "execution_count": 23,
   "metadata": {},
   "outputs": [],
   "source": [
    "nCol = len(dataset.columns)\n",
    "best_col = SelectKBest(f_regression, k='all').fit(X, X_enc_train['SalesInMillions'])"
   ]
  },
  {
   "cell_type": "code",
   "execution_count": 25,
   "metadata": {},
   "outputs": [
    {
     "data": {
      "image/png": "[encoded data removed]",
      "text/plain": [
       "<Figure size 1152x432 with 1 Axes>"
      ]
     },
     "metadata": {},
     "output_type": "display_data"
    }
   ],
   "source": [
    "sns.set(style='whitegrid', palette='muted')\n",
    "# Get the indices sorted by most important to least important\n",
    "indices = np.argsort(best_col.scores_)[::-1]\n",
    "\n",
    "# To get your top 10 feature names\n",
    "features = []\n",
    "for i in range(13):\n",
    "    features.append(X.columns[indices[i]])\n",
    "\n",
    "# Now plot\n",
    "plt.figure(figsize=(16,6))\n",
    "sns.barplot(features, best_col.scores_[indices[range(13)]], color='r')\n",
    "plt.show()"
   ]
  },
  {
   "cell_type": "code",
   "execution_count": null,
   "metadata": {},
   "outputs": [],
   "source": [
    "dataset.columns"
   ]
  },
  {
   "cell_type": "code",
   "execution_count": 26,
   "metadata": {},
   "outputs": [],
   "source": [
    "# best_cols = ['ID','CRITICS_POINTS', 'USER_POINTS', 'CONSOLE','PUBLISHER','NUM_YEARS','RATING', 'CN_CA','PB_CA']\n",
    "best_cols = ['CRITICS_POINTS', 'USER_POINTS','CONSOLE','NUM_YEARS','RATING','CN_PB','CN_RT','CN_CA','CATEGORY','ID']\n",
    "# best_cols = ['CRITICS_POINTS', 'USER_POINTS','CONSOLE','CN_PB','NUM_YEARS','RATING','CN_RT','CN_CA']"
   ]
  },
  {
   "cell_type": "code",
   "execution_count": 27,
   "metadata": {},
   "outputs": [
    {
     "data": {
      "text/html": [
       "<div>\n",
       "<style scoped>\n",
       "    .dataframe tbody tr th:only-of-type {\n",
       "        vertical-align: middle;\n",
       "    }\n",
       "\n",
       "    .dataframe tbody tr th {\n",
       "        vertical-align: top;\n",
       "    }\n",
       "\n",
       "    .dataframe thead th {\n",
       "        text-align: right;\n",
       "    }\n",
       "</style>\n",
       "<table border=\"1\" class=\"dataframe\">\n",
       "  <thead>\n",
       "    <tr style=\"text-align: right;\">\n",
       "      <th></th>\n",
       "      <th>CRITICS_POINTS</th>\n",
       "      <th>USER_POINTS</th>\n",
       "      <th>CONSOLE</th>\n",
       "      <th>NUM_YEARS</th>\n",
       "      <th>RATING</th>\n",
       "      <th>CN_PB</th>\n",
       "      <th>CN_RT</th>\n",
       "      <th>CN_CA</th>\n",
       "      <th>CATEGORY</th>\n",
       "      <th>ID</th>\n",
       "    </tr>\n",
       "  </thead>\n",
       "  <tbody>\n",
       "    <tr>\n",
       "      <th>0</th>\n",
       "      <td>2.833333</td>\n",
       "      <td>0.303704</td>\n",
       "      <td>2</td>\n",
       "      <td>12</td>\n",
       "      <td>1</td>\n",
       "      <td>69</td>\n",
       "      <td>6</td>\n",
       "      <td>24</td>\n",
       "      <td>7</td>\n",
       "      <td>2860</td>\n",
       "    </tr>\n",
       "    <tr>\n",
       "      <th>1</th>\n",
       "      <td>13.200000</td>\n",
       "      <td>1.640000</td>\n",
       "      <td>12</td>\n",
       "      <td>8</td>\n",
       "      <td>2</td>\n",
       "      <td>540</td>\n",
       "      <td>48</td>\n",
       "      <td>143</td>\n",
       "      <td>9</td>\n",
       "      <td>731</td>\n",
       "    </tr>\n",
       "    <tr>\n",
       "      <th>2</th>\n",
       "      <td>4.562500</td>\n",
       "      <td>0.006410</td>\n",
       "      <td>5</td>\n",
       "      <td>1</td>\n",
       "      <td>4</td>\n",
       "      <td>160</td>\n",
       "      <td>20</td>\n",
       "      <td>61</td>\n",
       "      <td>8</td>\n",
       "      <td>495</td>\n",
       "    </tr>\n",
       "    <tr>\n",
       "      <th>3</th>\n",
       "      <td>4.181818</td>\n",
       "      <td>0.326923</td>\n",
       "      <td>7</td>\n",
       "      <td>18</td>\n",
       "      <td>1</td>\n",
       "      <td>257</td>\n",
       "      <td>23</td>\n",
       "      <td>75</td>\n",
       "      <td>10</td>\n",
       "      <td>2641</td>\n",
       "    </tr>\n",
       "    <tr>\n",
       "      <th>4</th>\n",
       "      <td>2.259259</td>\n",
       "      <td>0.032579</td>\n",
       "      <td>8</td>\n",
       "      <td>7</td>\n",
       "      <td>4</td>\n",
       "      <td>316</td>\n",
       "      <td>29</td>\n",
       "      <td>77</td>\n",
       "      <td>0</td>\n",
       "      <td>811</td>\n",
       "    </tr>\n",
       "    <tr>\n",
       "      <th>5</th>\n",
       "      <td>2.571429</td>\n",
       "      <td>0.027707</td>\n",
       "      <td>7</td>\n",
       "      <td>16</td>\n",
       "      <td>1</td>\n",
       "      <td>294</td>\n",
       "      <td>23</td>\n",
       "      <td>69</td>\n",
       "      <td>4</td>\n",
       "      <td>1803</td>\n",
       "    </tr>\n",
       "    <tr>\n",
       "      <th>6</th>\n",
       "      <td>17.500000</td>\n",
       "      <td>0.464706</td>\n",
       "      <td>10</td>\n",
       "      <td>12</td>\n",
       "      <td>6</td>\n",
       "      <td>468</td>\n",
       "      <td>42</td>\n",
       "      <td>123</td>\n",
       "      <td>11</td>\n",
       "      <td>1470</td>\n",
       "    </tr>\n",
       "    <tr>\n",
       "      <th>7</th>\n",
       "      <td>1.627907</td>\n",
       "      <td>0.138636</td>\n",
       "      <td>8</td>\n",
       "      <td>6</td>\n",
       "      <td>6</td>\n",
       "      <td>320</td>\n",
       "      <td>30</td>\n",
       "      <td>83</td>\n",
       "      <td>6</td>\n",
       "      <td>3781</td>\n",
       "    </tr>\n",
       "    <tr>\n",
       "      <th>8</th>\n",
       "      <td>4.133333</td>\n",
       "      <td>0.265000</td>\n",
       "      <td>7</td>\n",
       "      <td>16</td>\n",
       "      <td>6</td>\n",
       "      <td>258</td>\n",
       "      <td>26</td>\n",
       "      <td>71</td>\n",
       "      <td>6</td>\n",
       "      <td>325</td>\n",
       "    </tr>\n",
       "    <tr>\n",
       "      <th>9</th>\n",
       "      <td>9.333333</td>\n",
       "      <td>0.032589</td>\n",
       "      <td>8</td>\n",
       "      <td>12</td>\n",
       "      <td>6</td>\n",
       "      <td>353</td>\n",
       "      <td>30</td>\n",
       "      <td>83</td>\n",
       "      <td>6</td>\n",
       "      <td>2380</td>\n",
       "    </tr>\n",
       "  </tbody>\n",
       "</table>\n",
       "</div>"
      ],
      "text/plain": [
       "   CRITICS_POINTS  USER_POINTS  CONSOLE  NUM_YEARS  RATING  CN_PB  CN_RT  \\\n",
       "0        2.833333     0.303704        2         12       1     69      6   \n",
       "1       13.200000     1.640000       12          8       2    540     48   \n",
       "2        4.562500     0.006410        5          1       4    160     20   \n",
       "3        4.181818     0.326923        7         18       1    257     23   \n",
       "4        2.259259     0.032579        8          7       4    316     29   \n",
       "5        2.571429     0.027707        7         16       1    294     23   \n",
       "6       17.500000     0.464706       10         12       6    468     42   \n",
       "7        1.627907     0.138636        8          6       6    320     30   \n",
       "8        4.133333     0.265000        7         16       6    258     26   \n",
       "9        9.333333     0.032589        8         12       6    353     30   \n",
       "\n",
       "   CN_CA  CATEGORY    ID  \n",
       "0     24         7  2860  \n",
       "1    143         9   731  \n",
       "2     61         8   495  \n",
       "3     75        10  2641  \n",
       "4     77         0   811  \n",
       "5     69         4  1803  \n",
       "6    123        11  1470  \n",
       "7     83         6  3781  \n",
       "8     71         6   325  \n",
       "9     83         6  2380  "
      ]
     },
     "execution_count": 27,
     "metadata": {},
     "output_type": "execute_result"
    }
   ],
   "source": [
    "X_enc_train[best_cols].head(10)\n"
   ]
  },
  {
   "cell_type": "code",
   "execution_count": 28,
   "metadata": {},
   "outputs": [],
   "source": [
    "X = X_enc_train[best_cols]\n",
    "X_test = X_enc_test[best_cols]\n",
    "y = X_enc_train['SalesInMillions']"
   ]
  },
  {
   "cell_type": "code",
   "execution_count": 29,
   "metadata": {},
   "outputs": [
    {
     "data": {
      "text/plain": [
       "Index(['CRITICS_POINTS', 'USER_POINTS', 'CONSOLE', 'NUM_YEARS', 'RATING',\n",
       "       'CN_PB', 'CN_RT', 'CN_CA', 'CATEGORY', 'ID'],\n",
       "      dtype='object')"
      ]
     },
     "execution_count": 29,
     "metadata": {},
     "output_type": "execute_result"
    }
   ],
   "source": [
    "X_test.columns"
   ]
  },
  {
   "cell_type": "code",
   "execution_count": 30,
   "metadata": {},
   "outputs": [
    {
     "name": "stdout",
     "output_type": "stream",
     "text": [
      "Train (3506, 10) and test (1503, 10), y (3506,)\n"
     ]
    }
   ],
   "source": [
    "print(f\"Train {X.shape} and test {X_test.shape}, y {y.shape}\")"
   ]
  },
  {
   "cell_type": "markdown",
   "metadata": {},
   "source": [
    "## Feature scaling"
   ]
  },
  {
   "cell_type": "code",
   "execution_count": 31,
   "metadata": {},
   "outputs": [],
   "source": [
    "# Feature scaling method\n",
    "def feature_scaling(X, X_test):\n",
    "    col = X.columns\n",
    "    \n",
    "    scaler_func = StandardScaler()\n",
    "    scaler_func.fit(X)\n",
    "    X_scaled = scaler_func.transform(X)\n",
    "    X_test_scaled=scaler_func.transform(X_test)\n",
    "    # Convert it back to Dataframe\n",
    "    X = pd.DataFrame(X_scaled, columns=col)\n",
    "    X_test = pd.DataFrame(X_test_scaled,columns=col)\n",
    "    return X, X_test\n",
    "\n",
    "# X, X_test = feature_scaling(X, X_test)\n"
   ]
  },
  {
   "cell_type": "markdown",
   "metadata": {},
   "source": [
    "## Catboost"
   ]
  },
  {
   "cell_type": "code",
   "execution_count": 81,
   "metadata": {},
   "outputs": [],
   "source": [
    "lgb_params={\n",
    "    'learning_rate': 0.03,\n",
    "    'objective':'regression',\n",
    "    'metric':'rmse',\n",
    "    'num_leaves': 35,\n",
    "    'verbose': 1,\n",
    "    'bagging_fraction': 0.9,\n",
    "    'feature_fraction': 0.9,\n",
    "    \"random_state\":42,\n",
    "    'max_depth': 12,\n",
    "    \"bagging_seed\" : 42,\n",
    "    \"verbosity\" : -1,\n",
    "    \"bagging_frequency\" : 5,\n",
    "    'lambda_l2': 0.5,\n",
    "    'lambda_l1': 0.5,\n",
    "    'min_child_samples': 36\n",
    "   }\n",
    "\n",
    "xgb_params = {\n",
    "    'objective': 'reg:linear',\n",
    "    'booster': 'gbtree',\n",
    "    'learning_rate': 0.03,\n",
    "    'max_depth': 25,\n",
    "    'min_child_weight': 57,\n",
    "    'gamma' : 1.45,\n",
    "    'alpha': 0.0,\n",
    "    'lambda': 0.01,\n",
    "    'subsample': 0.67,\n",
    "    'colsample_bytree': 0.054,\n",
    "    'colsample_bylevel': 0.50,\n",
    "    'n_jobs': -1,\n",
    "    'random_state': 456\n",
    "}\n",
    "\n",
    "cat_param = {\n",
    "    'iterations':1000,\n",
    "    'learning_rate' :0.03,\n",
    "    'depth' :8,\n",
    "    'eval_metric' :'RMSE',\n",
    "    'od_type' :'Iter',\n",
    "    'metric_period' : 50,\n",
    "    'od_wait' : 20,\n",
    "    'random_seed' : 101,\n",
    "    'bagging_temperature':0.2\n",
    "}"
   ]
  },
  {
   "cell_type": "code",
   "execution_count": 82,
   "metadata": {},
   "outputs": [],
   "source": [
    "# Set up classifier\n",
    "cat = CatBoostRegressor(**cat_param)\n",
    "\n",
    "xgb = XGBRegressor(**xgb_params, n_estimators=1000)\n",
    "\n",
    "lgbm_reg = LGBMRegressor(**lgb_params,n_estimators=1500)"
   ]
  },
  {
   "cell_type": "code",
   "execution_count": 83,
   "metadata": {},
   "outputs": [
    {
     "name": "stdout",
     "output_type": "stream",
     "text": [
      "\n",
      "Fold  0\n",
      "--------------------Catboost Training--------------------\n",
      "0:\tlearn: 0.4898033\ttest: 0.4871571\tbest: 0.4871571 (0)\ttotal: 5.61ms\tremaining: 5.61s\n"
     ]
    },
    {
     "name": "stderr",
     "output_type": "stream",
     "text": [
      "Warning: Overfitting detector is active, thus evaluation metric is calculated on every iteration. 'metric_period' is ignored for evaluation metric.\n"
     ]
    },
    {
     "name": "stdout",
     "output_type": "stream",
     "text": [
      "100:\tlearn: 0.4162870\ttest: 0.4562620\tbest: 0.4562620 (100)\ttotal: 425ms\tremaining: 3.78s\n",
      "200:\tlearn: 0.3896675\ttest: 0.4513495\tbest: 0.4513495 (200)\ttotal: 825ms\tremaining: 3.28s\n",
      "Stopped by overfitting detector  (50 iterations wait)\n",
      "\n",
      "bestTest = 0.4511916533\n",
      "bestIteration = 234\n",
      "\n",
      "Shrink model to first 235 iterations.\n",
      "\n",
      "Fold  1\n",
      "--------------------Catboost Training--------------------\n",
      "0:\tlearn: 0.4926140\ttest: 0.4686091\tbest: 0.4686091 (0)\ttotal: 17.2ms\tremaining: 17.2s\n"
     ]
    },
    {
     "name": "stderr",
     "output_type": "stream",
     "text": [
      "Warning: Overfitting detector is active, thus evaluation metric is calculated on every iteration. 'metric_period' is ignored for evaluation metric.\n"
     ]
    },
    {
     "name": "stdout",
     "output_type": "stream",
     "text": [
      "100:\tlearn: 0.4210487\ttest: 0.4154923\tbest: 0.4154923 (100)\ttotal: 435ms\tremaining: 3.87s\n",
      "200:\tlearn: 0.3954159\ttest: 0.4141637\tbest: 0.4136788 (153)\ttotal: 827ms\tremaining: 3.29s\n",
      "Stopped by overfitting detector  (50 iterations wait)\n",
      "\n",
      "bestTest = 0.413678771\n",
      "bestIteration = 153\n",
      "\n",
      "Shrink model to first 154 iterations.\n",
      "\n",
      "Fold  2\n",
      "--------------------Catboost Training--------------------\n",
      "0:\tlearn: 0.4882927\ttest: 0.4972007\tbest: 0.4972007 (0)\ttotal: 19.1ms\tremaining: 19.1s\n"
     ]
    },
    {
     "name": "stderr",
     "output_type": "stream",
     "text": [
      "Warning: Overfitting detector is active, thus evaluation metric is calculated on every iteration. 'metric_period' is ignored for evaluation metric.\n"
     ]
    },
    {
     "name": "stdout",
     "output_type": "stream",
     "text": [
      "100:\tlearn: 0.4161526\ttest: 0.4668950\tbest: 0.4668864 (99)\ttotal: 462ms\tremaining: 4.11s\n",
      "200:\tlearn: 0.3909572\ttest: 0.4632951\tbest: 0.4632398 (199)\ttotal: 855ms\tremaining: 3.4s\n",
      "300:\tlearn: 0.3702479\ttest: 0.4622396\tbest: 0.4620814 (296)\ttotal: 1.33s\tremaining: 3.09s\n",
      "Stopped by overfitting detector  (50 iterations wait)\n",
      "\n",
      "bestTest = 0.4618548147\n",
      "bestIteration = 310\n",
      "\n",
      "Shrink model to first 311 iterations.\n",
      "\n",
      "Fold  3\n",
      "--------------------Catboost Training--------------------\n",
      "0:\tlearn: 0.4888278\ttest: 0.4945848\tbest: 0.4945848 (0)\ttotal: 6.76ms\tremaining: 6.75s\n"
     ]
    },
    {
     "name": "stderr",
     "output_type": "stream",
     "text": [
      "Warning: Overfitting detector is active, thus evaluation metric is calculated on every iteration. 'metric_period' is ignored for evaluation metric.\n"
     ]
    },
    {
     "name": "stdout",
     "output_type": "stream",
     "text": [
      "100:\tlearn: 0.4157237\ttest: 0.4612690\tbest: 0.4612690 (100)\ttotal: 461ms\tremaining: 4.1s\n",
      "200:\tlearn: 0.3893180\ttest: 0.4581785\tbest: 0.4579741 (183)\ttotal: 865ms\tremaining: 3.44s\n",
      "Stopped by overfitting detector  (50 iterations wait)\n",
      "\n",
      "bestTest = 0.4579741487\n",
      "bestIteration = 183\n",
      "\n",
      "Shrink model to first 184 iterations.\n",
      "\n",
      "Fold  4\n",
      "--------------------Catboost Training--------------------\n",
      "0:\tlearn: 0.4901914\ttest: 0.4840446\tbest: 0.4840446 (0)\ttotal: 8.69ms\tremaining: 8.68s\n"
     ]
    },
    {
     "name": "stderr",
     "output_type": "stream",
     "text": [
      "Warning: Overfitting detector is active, thus evaluation metric is calculated on every iteration. 'metric_period' is ignored for evaluation metric.\n"
     ]
    },
    {
     "name": "stdout",
     "output_type": "stream",
     "text": [
      "100:\tlearn: 0.4160190\ttest: 0.4501598\tbest: 0.4499769 (96)\ttotal: 430ms\tremaining: 3.82s\n",
      "Stopped by overfitting detector  (50 iterations wait)\n",
      "\n",
      "bestTest = 0.4498520341\n",
      "bestIteration = 124\n",
      "\n",
      "Shrink model to first 125 iterations.\n",
      "\n",
      "Fold  5\n",
      "--------------------Catboost Training--------------------\n",
      "0:\tlearn: 0.4899213\ttest: 0.4873461\tbest: 0.4873461 (0)\ttotal: 8.14ms\tremaining: 8.13s\n"
     ]
    },
    {
     "name": "stderr",
     "output_type": "stream",
     "text": [
      "Warning: Overfitting detector is active, thus evaluation metric is calculated on every iteration. 'metric_period' is ignored for evaluation metric.\n"
     ]
    },
    {
     "name": "stdout",
     "output_type": "stream",
     "text": [
      "100:\tlearn: 0.4170838\ttest: 0.4490880\tbest: 0.4490880 (100)\ttotal: 477ms\tremaining: 4.25s\n",
      "200:\tlearn: 0.3928036\ttest: 0.4456506\tbest: 0.4456506 (200)\ttotal: 927ms\tremaining: 3.69s\n",
      "300:\tlearn: 0.3725518\ttest: 0.4439721\tbest: 0.4439506 (297)\ttotal: 1.38s\tremaining: 3.21s\n",
      "400:\tlearn: 0.3544556\ttest: 0.4422717\tbest: 0.4422128 (398)\ttotal: 1.86s\tremaining: 2.78s\n",
      "Stopped by overfitting detector  (50 iterations wait)\n",
      "\n",
      "bestTest = 0.4420681127\n",
      "bestIteration = 408\n",
      "\n",
      "Shrink model to first 409 iterations.\n",
      "\n",
      "Fold  6\n",
      "--------------------Catboost Training--------------------\n",
      "0:\tlearn: 0.4849497\ttest: 0.5202214\tbest: 0.5202214 (0)\ttotal: 9.17ms\tremaining: 9.16s\n"
     ]
    },
    {
     "name": "stderr",
     "output_type": "stream",
     "text": [
      "Warning: Overfitting detector is active, thus evaluation metric is calculated on every iteration. 'metric_period' is ignored for evaluation metric.\n"
     ]
    },
    {
     "name": "stdout",
     "output_type": "stream",
     "text": [
      "100:\tlearn: 0.4151067\ttest: 0.4693384\tbest: 0.4693384 (100)\ttotal: 451ms\tremaining: 4.02s\n",
      "200:\tlearn: 0.3902760\ttest: 0.4630541\tbest: 0.4629635 (198)\ttotal: 926ms\tremaining: 3.68s\n",
      "300:\tlearn: 0.3697110\ttest: 0.4621040\tbest: 0.4620030 (290)\ttotal: 1.38s\tremaining: 3.19s\n",
      "Stopped by overfitting detector  (50 iterations wait)\n",
      "\n",
      "bestTest = 0.4612856698\n",
      "bestIteration = 347\n",
      "\n",
      "Shrink model to first 348 iterations.\n",
      "\n",
      "Fold  7\n",
      "--------------------Catboost Training--------------------\n",
      "0:\tlearn: 0.4909409\ttest: 0.4789833\tbest: 0.4789833 (0)\ttotal: 5.79ms\tremaining: 5.78s\n"
     ]
    },
    {
     "name": "stderr",
     "output_type": "stream",
     "text": [
      "Warning: Overfitting detector is active, thus evaluation metric is calculated on every iteration. 'metric_period' is ignored for evaluation metric.\n"
     ]
    },
    {
     "name": "stdout",
     "output_type": "stream",
     "text": [
      "100:\tlearn: 0.4171274\ttest: 0.4435321\tbest: 0.4435321 (100)\ttotal: 428ms\tremaining: 3.81s\n",
      "200:\tlearn: 0.3932319\ttest: 0.4405220\tbest: 0.4403836 (177)\ttotal: 821ms\tremaining: 3.26s\n",
      "300:\tlearn: 0.3735159\ttest: 0.4401862\tbest: 0.4397306 (262)\ttotal: 1.3s\tremaining: 3.02s\n",
      "Stopped by overfitting detector  (50 iterations wait)\n",
      "\n",
      "bestTest = 0.4397305556\n",
      "bestIteration = 262\n",
      "\n",
      "Shrink model to first 263 iterations.\n"
     ]
    }
   ],
   "source": [
    "K = 8\n",
    "kf = KFold(n_splits=K, random_state=42, shuffle=True)\n",
    "\n",
    "for i, (train_index, test_index) in enumerate(kf.split(X_enc_train)):\n",
    "    \n",
    "    # Create data for this fold\n",
    "    y_train, y_valid = y.iloc[train_index], y.iloc[test_index]\n",
    "    X_train, X_valid = X.iloc[train_index,:], X.iloc[test_index,:]\n",
    "    print( \"\\nFold \", i)\n",
    "    \n",
    "    print(\"-\"* 20 + \"Catboost Training\" + \"-\"* 20)\n",
    "    cat.fit(X_train, np.log1p(y_train), \n",
    "            eval_set=[(X_valid, np.log1p(y_valid))],\n",
    "            early_stopping_rounds=50,\n",
    "            use_best_model=True,verbose=100)\n",
    "\n",
    "#     print(\"-\"* 20 + \"XGboost Training\" + \"-\"* 20)\n",
    "#     xgb.fit(X_train, np.log1p(y_train),\n",
    "#             eval_set=[(X_valid, np.log1p(y_valid))],\n",
    "#             early_stopping_rounds=50,\n",
    "#             eval_metric='rmse',verbose=100)\n",
    "#     print(\"-\"* 20 + \"LGBM Training\" + \"-\"* 20)\n",
    "#     lgbm_reg.fit(X_train, np.log1p(y_train),\n",
    "#             eval_set=[(X_valid, np.log1p(y_valid))],\n",
    "#             early_stopping_rounds=50,\n",
    "#             eval_metric='rmse',verbose=100)"
   ]
  },
  {
   "cell_type": "code",
   "execution_count": 84,
   "metadata": {},
   "outputs": [
    {
     "name": "stdout",
     "output_type": "stream",
     "text": [
      "{'learn': {'RMSE': 0.37351589359864745}, 'validation': {'RMSE': 0.43973055558916585}}\n"
     ]
    },
    {
     "data": {
      "text/plain": [
       "{'iterations': 1000,\n",
       " 'learning_rate': 0.03,\n",
       " 'depth': 8,\n",
       " 'loss_function': 'RMSE',\n",
       " 'od_wait': 20,\n",
       " 'od_type': 'Iter',\n",
       " 'random_seed': 101,\n",
       " 'metric_period': 50,\n",
       " 'eval_metric': 'RMSE',\n",
       " 'bagging_temperature': 0.2}"
      ]
     },
     "execution_count": 84,
     "metadata": {},
     "output_type": "execute_result"
    }
   ],
   "source": [
    "print(cat.best_score_)\n",
    "cat.get_params()\n",
    "# print(lgbm_reg.best_score_)\n",
    "# lgbm_reg.get_params()"
   ]
  },
  {
   "cell_type": "code",
   "execution_count": 86,
   "metadata": {},
   "outputs": [],
   "source": [
    "# predictions = inv_boxcox(cat.predict(X_test), 0.01)\n",
    "predictions = np.expm1(cat.predict(X_test))\n",
    "# predictions = np.expm1(lgbm_reg.predict(X_test))"
   ]
  },
  {
   "cell_type": "code",
   "execution_count": 87,
   "metadata": {
    "scrolled": true
   },
   "outputs": [
    {
     "data": {
      "text/plain": [
       "array([1.51196468, 1.87624899, 2.62146901, ..., 1.32910608, 1.78970956,\n",
       "       1.79238817])"
      ]
     },
     "execution_count": 87,
     "metadata": {},
     "output_type": "execute_result"
    }
   ],
   "source": [
    "predictions"
   ]
  },
  {
   "cell_type": "code",
   "execution_count": 88,
   "metadata": {},
   "outputs": [],
   "source": [
    "final_df = pd.DataFrame({'SalesInMillions': predictions}, index=X_enc_test.index)\n",
    "\n",
    "# final_df['SalesInMillions'] = final_df.apply(lambda x: round(x, 6))\n",
    "final_df.to_csv('./output/game_sales_venkat_cat_05.csv', float_format='%.6f', index=False)\n"
   ]
  }
 ],
 "metadata": {
  "kernelspec": {
   "display_name": "hackenv",
   "language": "python",
   "name": "hackenv"
  },
  "language_info": {
   "codemirror_mode": {
    "name": "ipython",
    "version": 3
   },
   "file_extension": ".py",
   "mimetype": "text/x-python",
   "name": "python",
   "nbconvert_exporter": "python",
   "pygments_lexer": "ipython3",
   "version": "3.7.0"
  }
 },
 "nbformat": 4,
 "nbformat_minor": 2
}
