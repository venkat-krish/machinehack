{
 "cells": [
  {
   "cell_type": "markdown",
   "metadata": {},
   "source": [
    "# Game console products sales prediction"
   ]
  },
  {
   "cell_type": "markdown",
   "metadata": {},
   "source": [
    "## Overview\n",
    "The gaming industry is certainly one of the thriving industries of the modern age and one of those that are most influenced by the advancement in technology. With the availability of technologies like AR/VR in consumer products like gaming consoles and even smartphones, the gaming sector shows great potential. In this hackathon, you as a data scientist must use your analytical skills to predict the sales of video games depending on given factors. Given are 8 distinguishing factors that can influence the sales of a video game. Your objective as a data scientist is to build a machine learning model that can accurately predict the sales in millions of units for a given game."
   ]
  },
  {
   "cell_type": "markdown",
   "metadata": {},
   "source": [
    "## Import Libraries"
   ]
  },
  {
   "cell_type": "code",
   "execution_count": 2,
   "metadata": {},
   "outputs": [],
   "source": [
    "import pandas as pd\n",
    "import numpy as np\n",
    "import os\n",
    "\n",
    "import matplotlib.pyplot as plt\n",
    "import seaborn as sns\n",
    "\n",
    "from sklearn.preprocessing import PowerTransformer\n",
    "from sklearn.feature_selection import SelectKBest, f_regression\n",
    "# Linear Regression Model\n",
    "from sklearn.linear_model import LinearRegression, RidgeCV, LassoCV\n",
    "from sklearn.preprocessing import LabelEncoder, OneHotEncoder\n",
    "from sklearn.compose import TransformedTargetRegressor\n",
    "from sklearn.utils import shuffle\n",
    "\n",
    "# Import LightGBM\n",
    "from lightgbm import LGBMRegressor"
   ]
  },
  {
   "cell_type": "markdown",
   "metadata": {},
   "source": [
    "## Loading Dataset"
   ]
  },
  {
   "cell_type": "code",
   "execution_count": 3,
   "metadata": {},
   "outputs": [],
   "source": [
    "game_train_df = pd.read_csv('./data/Train.csv', header=0)\n",
    "game_test_df = pd.read_csv('./data/Test.csv', header=0)\n",
    "game_submit_df = pd.read_csv('./data/Sample_Submission.csv', header=0)"
   ]
  },
  {
   "cell_type": "code",
   "execution_count": 4,
   "metadata": {},
   "outputs": [
    {
     "name": "stdout",
     "output_type": "stream",
     "text": [
      "<class 'pandas.core.frame.DataFrame'>\n",
      "RangeIndex: 3506 entries, 0 to 3505\n",
      "Data columns (total 9 columns):\n",
      " #   Column           Non-Null Count  Dtype  \n",
      "---  ------           --------------  -----  \n",
      " 0   ID               3506 non-null   int64  \n",
      " 1   CONSOLE          3506 non-null   object \n",
      " 2   YEAR             3506 non-null   int64  \n",
      " 3   CATEGORY         3506 non-null   object \n",
      " 4   PUBLISHER        3506 non-null   object \n",
      " 5   RATING           3506 non-null   object \n",
      " 6   CRITICS_POINTS   3506 non-null   float64\n",
      " 7   USER_POINTS      3506 non-null   float64\n",
      " 8   SalesInMillions  3506 non-null   float64\n",
      "dtypes: float64(3), int64(2), object(4)\n",
      "memory usage: 246.6+ KB\n",
      "--------------------------------------------------------------------------------\n"
     ]
    },
    {
     "data": {
      "text/html": [
       "<div>\n",
       "<style scoped>\n",
       "    .dataframe tbody tr th:only-of-type {\n",
       "        vertical-align: middle;\n",
       "    }\n",
       "\n",
       "    .dataframe tbody tr th {\n",
       "        vertical-align: top;\n",
       "    }\n",
       "\n",
       "    .dataframe thead th {\n",
       "        text-align: right;\n",
       "    }\n",
       "</style>\n",
       "<table border=\"1\" class=\"dataframe\">\n",
       "  <thead>\n",
       "    <tr style=\"text-align: right;\">\n",
       "      <th></th>\n",
       "      <th>ID</th>\n",
       "      <th>CONSOLE</th>\n",
       "      <th>YEAR</th>\n",
       "      <th>CATEGORY</th>\n",
       "      <th>PUBLISHER</th>\n",
       "      <th>RATING</th>\n",
       "      <th>CRITICS_POINTS</th>\n",
       "      <th>USER_POINTS</th>\n",
       "      <th>SalesInMillions</th>\n",
       "    </tr>\n",
       "  </thead>\n",
       "  <tbody>\n",
       "    <tr>\n",
       "      <th>0</th>\n",
       "      <td>2860</td>\n",
       "      <td>ds</td>\n",
       "      <td>2008</td>\n",
       "      <td>role-playing</td>\n",
       "      <td>Nintendo</td>\n",
       "      <td>E</td>\n",
       "      <td>2.833333</td>\n",
       "      <td>0.303704</td>\n",
       "      <td>1.779257</td>\n",
       "    </tr>\n",
       "    <tr>\n",
       "      <th>1</th>\n",
       "      <td>731</td>\n",
       "      <td>wii</td>\n",
       "      <td>2012</td>\n",
       "      <td>simulation</td>\n",
       "      <td>Konami Digital Entertainment</td>\n",
       "      <td>E10+</td>\n",
       "      <td>13.200000</td>\n",
       "      <td>1.640000</td>\n",
       "      <td>0.215050</td>\n",
       "    </tr>\n",
       "    <tr>\n",
       "      <th>2</th>\n",
       "      <td>495</td>\n",
       "      <td>pc</td>\n",
       "      <td>2019</td>\n",
       "      <td>shooter</td>\n",
       "      <td>Activision</td>\n",
       "      <td>M</td>\n",
       "      <td>4.562500</td>\n",
       "      <td>0.006410</td>\n",
       "      <td>0.534402</td>\n",
       "    </tr>\n",
       "    <tr>\n",
       "      <th>3</th>\n",
       "      <td>2641</td>\n",
       "      <td>ps2</td>\n",
       "      <td>2002</td>\n",
       "      <td>sports</td>\n",
       "      <td>Electronic Arts</td>\n",
       "      <td>E</td>\n",
       "      <td>4.181818</td>\n",
       "      <td>0.326923</td>\n",
       "      <td>1.383964</td>\n",
       "    </tr>\n",
       "    <tr>\n",
       "      <th>4</th>\n",
       "      <td>811</td>\n",
       "      <td>ps3</td>\n",
       "      <td>2013</td>\n",
       "      <td>action</td>\n",
       "      <td>Activision</td>\n",
       "      <td>M</td>\n",
       "      <td>2.259259</td>\n",
       "      <td>0.032579</td>\n",
       "      <td>0.082671</td>\n",
       "    </tr>\n",
       "  </tbody>\n",
       "</table>\n",
       "</div>"
      ],
      "text/plain": [
       "     ID CONSOLE  YEAR      CATEGORY                     PUBLISHER RATING  CRITICS_POINTS  USER_POINTS  SalesInMillions\n",
       "0  2860      ds  2008  role-playing                      Nintendo      E        2.833333     0.303704         1.779257\n",
       "1   731     wii  2012    simulation  Konami Digital Entertainment   E10+       13.200000     1.640000         0.215050\n",
       "2   495      pc  2019       shooter                    Activision      M        4.562500     0.006410         0.534402\n",
       "3  2641     ps2  2002        sports               Electronic Arts      E        4.181818     0.326923         1.383964\n",
       "4   811     ps3  2013        action                    Activision      M        2.259259     0.032579         0.082671"
      ]
     },
     "execution_count": 4,
     "metadata": {},
     "output_type": "execute_result"
    }
   ],
   "source": [
    "game_train_df.info()\n",
    "print(\"--\"*40)\n",
    "game_train_df.head()"
   ]
  },
  {
   "cell_type": "code",
   "execution_count": 5,
   "metadata": {},
   "outputs": [
    {
     "name": "stdout",
     "output_type": "stream",
     "text": [
      "<class 'pandas.core.frame.DataFrame'>\n",
      "RangeIndex: 1503 entries, 0 to 1502\n",
      "Data columns (total 8 columns):\n",
      " #   Column          Non-Null Count  Dtype  \n",
      "---  ------          --------------  -----  \n",
      " 0   ID              1503 non-null   int64  \n",
      " 1   CONSOLE         1503 non-null   object \n",
      " 2   YEAR            1503 non-null   int64  \n",
      " 3   CATEGORY        1503 non-null   object \n",
      " 4   PUBLISHER       1503 non-null   object \n",
      " 5   RATING          1503 non-null   object \n",
      " 6   CRITICS_POINTS  1503 non-null   float64\n",
      " 7   USER_POINTS     1503 non-null   float64\n",
      "dtypes: float64(2), int64(2), object(4)\n",
      "memory usage: 94.1+ KB\n",
      "--------------------------------------------------------------------------------\n"
     ]
    },
    {
     "data": {
      "text/html": [
       "<div>\n",
       "<style scoped>\n",
       "    .dataframe tbody tr th:only-of-type {\n",
       "        vertical-align: middle;\n",
       "    }\n",
       "\n",
       "    .dataframe tbody tr th {\n",
       "        vertical-align: top;\n",
       "    }\n",
       "\n",
       "    .dataframe thead th {\n",
       "        text-align: right;\n",
       "    }\n",
       "</style>\n",
       "<table border=\"1\" class=\"dataframe\">\n",
       "  <thead>\n",
       "    <tr style=\"text-align: right;\">\n",
       "      <th></th>\n",
       "      <th>ID</th>\n",
       "      <th>CONSOLE</th>\n",
       "      <th>YEAR</th>\n",
       "      <th>CATEGORY</th>\n",
       "      <th>PUBLISHER</th>\n",
       "      <th>RATING</th>\n",
       "      <th>CRITICS_POINTS</th>\n",
       "      <th>USER_POINTS</th>\n",
       "    </tr>\n",
       "  </thead>\n",
       "  <tbody>\n",
       "    <tr>\n",
       "      <th>0</th>\n",
       "      <td>4310</td>\n",
       "      <td>ps2</td>\n",
       "      <td>2008</td>\n",
       "      <td>action</td>\n",
       "      <td>Tecmo Koei</td>\n",
       "      <td>T</td>\n",
       "      <td>3.928571</td>\n",
       "      <td>0.482353</td>\n",
       "    </tr>\n",
       "    <tr>\n",
       "      <th>1</th>\n",
       "      <td>4011</td>\n",
       "      <td>psp</td>\n",
       "      <td>2007</td>\n",
       "      <td>strategy</td>\n",
       "      <td>Atari</td>\n",
       "      <td>E10+</td>\n",
       "      <td>5.538462</td>\n",
       "      <td>0.071795</td>\n",
       "    </tr>\n",
       "    <tr>\n",
       "      <th>2</th>\n",
       "      <td>2185</td>\n",
       "      <td>ps2</td>\n",
       "      <td>2004</td>\n",
       "      <td>shooter</td>\n",
       "      <td>Electronic Arts</td>\n",
       "      <td>T</td>\n",
       "      <td>3.034483</td>\n",
       "      <td>0.062044</td>\n",
       "    </tr>\n",
       "    <tr>\n",
       "      <th>3</th>\n",
       "      <td>1644</td>\n",
       "      <td>x</td>\n",
       "      <td>2006</td>\n",
       "      <td>action</td>\n",
       "      <td>Electronic Arts</td>\n",
       "      <td>E</td>\n",
       "      <td>2.913043</td>\n",
       "      <td>0.880000</td>\n",
       "    </tr>\n",
       "    <tr>\n",
       "      <th>4</th>\n",
       "      <td>188</td>\n",
       "      <td>3ds</td>\n",
       "      <td>2011</td>\n",
       "      <td>racing</td>\n",
       "      <td>Ubisoft</td>\n",
       "      <td>E10+</td>\n",
       "      <td>1.162162</td>\n",
       "      <td>0.183333</td>\n",
       "    </tr>\n",
       "  </tbody>\n",
       "</table>\n",
       "</div>"
      ],
      "text/plain": [
       "     ID CONSOLE  YEAR  CATEGORY        PUBLISHER RATING  CRITICS_POINTS  USER_POINTS\n",
       "0  4310     ps2  2008    action       Tecmo Koei      T        3.928571     0.482353\n",
       "1  4011     psp  2007  strategy            Atari   E10+        5.538462     0.071795\n",
       "2  2185     ps2  2004   shooter  Electronic Arts      T        3.034483     0.062044\n",
       "3  1644       x  2006    action  Electronic Arts      E        2.913043     0.880000\n",
       "4   188     3ds  2011    racing          Ubisoft   E10+        1.162162     0.183333"
      ]
     },
     "execution_count": 5,
     "metadata": {},
     "output_type": "execute_result"
    }
   ],
   "source": [
    "game_test_df.info()\n",
    "print('--'*40)\n",
    "game_test_df.head()"
   ]
  },
  {
   "cell_type": "code",
   "execution_count": 6,
   "metadata": {},
   "outputs": [
    {
     "data": {
      "text/html": [
       "<div>\n",
       "<style scoped>\n",
       "    .dataframe tbody tr th:only-of-type {\n",
       "        vertical-align: middle;\n",
       "    }\n",
       "\n",
       "    .dataframe tbody tr th {\n",
       "        vertical-align: top;\n",
       "    }\n",
       "\n",
       "    .dataframe thead th {\n",
       "        text-align: right;\n",
       "    }\n",
       "</style>\n",
       "<table border=\"1\" class=\"dataframe\">\n",
       "  <thead>\n",
       "    <tr style=\"text-align: right;\">\n",
       "      <th></th>\n",
       "      <th>SalesInMillions</th>\n",
       "    </tr>\n",
       "  </thead>\n",
       "  <tbody>\n",
       "    <tr>\n",
       "      <th>0</th>\n",
       "      <td>1.497533</td>\n",
       "    </tr>\n",
       "    <tr>\n",
       "      <th>1</th>\n",
       "      <td>2.368795</td>\n",
       "    </tr>\n",
       "    <tr>\n",
       "      <th>2</th>\n",
       "      <td>2.630505</td>\n",
       "    </tr>\n",
       "    <tr>\n",
       "      <th>3</th>\n",
       "      <td>2.506086</td>\n",
       "    </tr>\n",
       "    <tr>\n",
       "      <th>4</th>\n",
       "      <td>1.970574</td>\n",
       "    </tr>\n",
       "  </tbody>\n",
       "</table>\n",
       "</div>"
      ],
      "text/plain": [
       "   SalesInMillions\n",
       "0         1.497533\n",
       "1         2.368795\n",
       "2         2.630505\n",
       "3         2.506086\n",
       "4         1.970574"
      ]
     },
     "execution_count": 6,
     "metadata": {},
     "output_type": "execute_result"
    }
   ],
   "source": [
    "game_submit_df.head()"
   ]
  },
  {
   "cell_type": "markdown",
   "metadata": {},
   "source": [
    "## Feature Engineering"
   ]
  },
  {
   "cell_type": "code",
   "execution_count": 11,
   "metadata": {},
   "outputs": [
    {
     "name": "stdout",
     "output_type": "stream",
     "text": [
      "Index(['ID', 'CONSOLE', 'YEAR', 'CATEGORY', 'PUBLISHER', 'RATING',\n",
      "       'CRITICS_POINTS', 'USER_POINTS', 'SalesInMillions'],\n",
      "      dtype='object')\n"
     ]
    }
   ],
   "source": [
    "dataset = pd.concat([game_train_df, game_test_df], keys=[0,1])\n",
    "print(dataset.columns)\n",
    "# print(dataset['CONSOLE'].unique())\n",
    "# print(dataset['CATEGORY'].unique())\n",
    "# print(dataset['PUBLISHER'].unique())"
   ]
  },
  {
   "cell_type": "code",
   "execution_count": 61,
   "metadata": {},
   "outputs": [
    {
     "name": "stdout",
     "output_type": "stream",
     "text": [
      "[1988 1994 1997 1998 1999 2000 2001 2002 2003 2004 2005 2006 2007 2008\n",
      " 2009 2010 2011 2012 2013 2014 2015 2016 2017 2018 2019]\n",
      "0  0       12\n",
      "   1        8\n",
      "   2        1\n",
      "   3       18\n",
      "   4        7\n",
      "           ..\n",
      "1  1498    16\n",
      "   1499    13\n",
      "   1500     4\n",
      "   1501    18\n",
      "   1502    10\n",
      "Name: NUM_YEARS, Length: 5009, dtype: int64\n"
     ]
    }
   ],
   "source": [
    "print(np.unique(dataset['YEAR']))\n",
    "\n",
    "num_years = lambda y: int(2020 - y)\n",
    "dataset['NUM_YEARS'] = dataset['YEAR'].apply(num_years)\n",
    "dataset.drop('num_years', inplace=True, axis=1)\n",
    "print(dataset['NUM_YEARS'])\n"
   ]
  },
  {
   "cell_type": "markdown",
   "metadata": {},
   "source": [
    "**Interaction features**"
   ]
  },
  {
   "cell_type": "code",
   "execution_count": 59,
   "metadata": {},
   "outputs": [],
   "source": [
    "interaction1 = dataset['CONSOLE'] +\"_\"+ dataset['CATEGORY']\n",
    "interaction2 = dataset['CONSOLE'] +\"_\"+ dataset['PUBLISHER']\n",
    "interaction3 = dataset['PUBLISHER'] +\"_\"+ dataset['CATEGORY']\n",
    "interaction4 = dataset['CONSOLE'] +\"_\"+ dataset['RATING']\n",
    "dataset['CN_CA'] = interaction1\n",
    "dataset['CN_PB'] = interaction2\n",
    "dataset['PB_CA'] = interaction3\n",
    "dataset['CN_RT'] = interaction4"
   ]
  },
  {
   "cell_type": "code",
   "execution_count": 62,
   "metadata": {},
   "outputs": [
    {
     "data": {
      "text/plain": [
       "Index(['ID', 'CONSOLE', 'YEAR', 'CATEGORY', 'PUBLISHER', 'RATING',\n",
       "       'CRITICS_POINTS', 'USER_POINTS', 'SalesInMillions', 'CN_CA', 'CN_PB',\n",
       "       'PB_CA', 'CN_RT', 'NUM_YEARS'],\n",
       "      dtype='object')"
      ]
     },
     "execution_count": 62,
     "metadata": {},
     "output_type": "execute_result"
    }
   ],
   "source": [
    "dataset.columns"
   ]
  },
  {
   "cell_type": "code",
   "execution_count": null,
   "metadata": {},
   "outputs": [],
   "source": []
  },
  {
   "cell_type": "markdown",
   "metadata": {},
   "source": [
    "## Preprocessing"
   ]
  },
  {
   "cell_type": "code",
   "execution_count": 165,
   "metadata": {},
   "outputs": [],
   "source": [
    "dataset = pd.concat([game_train_df, game_test_df], keys=[0,1])"
   ]
  },
  {
   "cell_type": "code",
   "execution_count": 102,
   "metadata": {},
   "outputs": [
    {
     "name": "stdout",
     "output_type": "stream",
     "text": [
      "Size of the dataset : 5009\n",
      "Is there any null values : ID                    0\n",
      "CONSOLE               0\n",
      "YEAR                  0\n",
      "CATEGORY              0\n",
      "PUBLISHER             0\n",
      "RATING                0\n",
      "CRITICS_POINTS        0\n",
      "USER_POINTS           0\n",
      "SalesInMillions    1503\n",
      "dtype: int64\n",
      "Categorical columns : Index(['CONSOLE', 'CATEGORY', 'PUBLISHER', 'RATING'], dtype='object')\n"
     ]
    }
   ],
   "source": [
    "print(f\"Size of the dataset : {dataset.shape[0]}\")\n",
    "print(f\"Is there any null values : {dataset.isnull().sum()}\")\n",
    "print(f\"Categorical columns : {dataset.select_dtypes(include=['object']).columns}\")"
   ]
  },
  {
   "cell_type": "code",
   "execution_count": 103,
   "metadata": {},
   "outputs": [],
   "source": [
    "y_target = np.log1p(game_train_df['SalesInMillions'])\n",
    "# pwr_transformer = PowerTransformer()\n",
    "# y_train = pwr_transformer.fit_transform(game_train_df['SalesInMillions'].to_frame())"
   ]
  },
  {
   "cell_type": "code",
   "execution_count": 104,
   "metadata": {},
   "outputs": [
    {
     "data": {
      "image/png": "[encoded data removed]",
      "text/plain": [
       "<Figure size 864x432 with 2 Axes>"
      ]
     },
     "metadata": {},
     "output_type": "display_data"
    }
   ],
   "source": [
    "sns.set(style='whitegrid', palette='muted')\n",
    "fig, axes = plt.subplots(1,2,figsize=(12,6))\n",
    "sns.distplot(game_train_df['SalesInMillions'], kde=True, ax=axes[0])\n",
    "# sns.distplot(y_train, kde=True, ax=axes[1])\n",
    "sns.distplot(y_target, kde=True, ax=axes[1])\n",
    "axes[0].set_title(\"Skewed Y-Values\")\n",
    "axes[1].set_title(\"Normalized Y-Values\")\n",
    "plt.tight_layout()\n",
    "plt.show()"
   ]
  },
  {
   "cell_type": "markdown",
   "metadata": {},
   "source": [
    "## Label Encoding"
   ]
  },
  {
   "cell_type": "code",
   "execution_count": 63,
   "metadata": {},
   "outputs": [],
   "source": [
    "def prepare_label_encode(dataframe):\n",
    "    try:\n",
    "        # Making a copy of dataset\n",
    "        data_set = dataframe.copy()\n",
    "        \n",
    "        # Getting the categorical columns\n",
    "        cat_data = data_set.select_dtypes(include=['object'])\n",
    "        \n",
    "        # One-hot encoding on the category columns\n",
    "        X_encode = cat_data.apply(LabelEncoder().fit_transform)\n",
    "        \n",
    "        # Drop the date column\n",
    "        data_set.drop(cat_data.columns, inplace=True, axis=1)\n",
    "        \n",
    "        # Merge the data\n",
    "        data_set = pd.concat([data_set, X_encode], axis=1)\n",
    "        \n",
    "        return data_set\n",
    "    \n",
    "    except Exception as e:\n",
    "        print(f\"Error in encoding the category data: {e}\")"
   ]
  },
  {
   "cell_type": "code",
   "execution_count": 64,
   "metadata": {},
   "outputs": [],
   "source": [
    "dataset_enc = prepare_label_encode(dataset)"
   ]
  },
  {
   "cell_type": "code",
   "execution_count": 65,
   "metadata": {},
   "outputs": [
    {
     "data": {
      "text/plain": [
       "Index(['ID', 'YEAR', 'CRITICS_POINTS', 'USER_POINTS', 'SalesInMillions',\n",
       "       'NUM_YEARS', 'CONSOLE', 'CATEGORY', 'PUBLISHER', 'RATING', 'CN_CA',\n",
       "       'CN_PB', 'PB_CA', 'CN_RT'],\n",
       "      dtype='object')"
      ]
     },
     "execution_count": 65,
     "metadata": {},
     "output_type": "execute_result"
    }
   ],
   "source": [
    "dataset_enc.columns"
   ]
  },
  {
   "cell_type": "code",
   "execution_count": 66,
   "metadata": {},
   "outputs": [],
   "source": [
    "# Getting back the Tran and Test data\n",
    "X_enc_train, X_enc_test = dataset_enc.xs(0), dataset_enc.xs(1)"
   ]
  },
  {
   "cell_type": "markdown",
   "metadata": {},
   "source": [
    "## Feature Selection"
   ]
  },
  {
   "cell_type": "code",
   "execution_count": 67,
   "metadata": {},
   "outputs": [
    {
     "data": {
      "text/plain": [
       "(3506, 14)"
      ]
     },
     "execution_count": 67,
     "metadata": {},
     "output_type": "execute_result"
    }
   ],
   "source": [
    "X_enc_train.shape"
   ]
  },
  {
   "cell_type": "code",
   "execution_count": 68,
   "metadata": {},
   "outputs": [],
   "source": [
    "X = X_enc_train.loc[:, X_enc_train.columns != 'SalesInMillions']\n",
    "y = X_enc_train.loc[:, X_enc_train.columns == 'SalesInMillions']"
   ]
  },
  {
   "cell_type": "code",
   "execution_count": 69,
   "metadata": {},
   "outputs": [
    {
     "name": "stdout",
     "output_type": "stream",
     "text": [
      "<class 'pandas.core.frame.DataFrame'>\n",
      "Int64Index: 3506 entries, 0 to 3505\n",
      "Data columns (total 13 columns):\n",
      " #   Column          Non-Null Count  Dtype  \n",
      "---  ------          --------------  -----  \n",
      " 0   ID              3506 non-null   int64  \n",
      " 1   YEAR            3506 non-null   int64  \n",
      " 2   CRITICS_POINTS  3506 non-null   float64\n",
      " 3   USER_POINTS     3506 non-null   float64\n",
      " 4   NUM_YEARS       3506 non-null   int64  \n",
      " 5   CONSOLE         3506 non-null   int32  \n",
      " 6   CATEGORY        3506 non-null   int32  \n",
      " 7   PUBLISHER       3506 non-null   int32  \n",
      " 8   RATING          3506 non-null   int32  \n",
      " 9   CN_CA           3506 non-null   int32  \n",
      " 10  CN_PB           3506 non-null   int32  \n",
      " 11  PB_CA           3506 non-null   int32  \n",
      " 12  CN_RT           3506 non-null   int32  \n",
      "dtypes: float64(2), int32(8), int64(3)\n",
      "memory usage: 273.9 KB\n"
     ]
    }
   ],
   "source": [
    "X.info()"
   ]
  },
  {
   "cell_type": "code",
   "execution_count": 70,
   "metadata": {},
   "outputs": [],
   "source": [
    "nCol = len(dataset.columns)\n",
    "best_col = SelectKBest(f_regression, k=12).fit(X, X_enc_train['SalesInMillions'])"
   ]
  },
  {
   "cell_type": "code",
   "execution_count": 71,
   "metadata": {},
   "outputs": [
    {
     "data": {
      "image/png": "[encoded data removed]",
      "text/plain": [
       "<Figure size 1152x432 with 1 Axes>"
      ]
     },
     "metadata": {},
     "output_type": "display_data"
    }
   ],
   "source": [
    "sns.set(style='whitegrid', palette='muted')\n",
    "# Get the indices sorted by most important to least important\n",
    "indices = np.argsort(best_col.scores_)[::-1]\n",
    "\n",
    "# To get your top 10 feature names\n",
    "features = []\n",
    "for i in range(12):\n",
    "    features.append(X_enc_train.columns[indices[i]])\n",
    "\n",
    "# Now plot\n",
    "plt.figure(figsize=(16,6))\n",
    "sns.barplot(features, best_col.scores_[indices[range(12)]], color='r')\n",
    "plt.show()"
   ]
  },
  {
   "cell_type": "code",
   "execution_count": 31,
   "metadata": {},
   "outputs": [
    {
     "data": {
      "text/plain": [
       "Index(['ID', 'CONSOLE', 'YEAR', 'CATEGORY', 'PUBLISHER', 'RATING',\n",
       "       'CRITICS_POINTS', 'USER_POINTS', 'SalesInMillions', 'CN_CA', 'CN_PB',\n",
       "       'PB_CA', 'CN_RT'],\n",
       "      dtype='object')"
      ]
     },
     "execution_count": 31,
     "metadata": {},
     "output_type": "execute_result"
    }
   ],
   "source": [
    "dataset.columns"
   ]
  },
  {
   "cell_type": "code",
   "execution_count": 72,
   "metadata": {},
   "outputs": [],
   "source": [
    "best_cols = ['CRITICS_POINTS', 'USER_POINTS', 'CONSOLE','PUBLISHER','NUM_YEARS','RATING', 'CN_CA','PB_CA', 'ID', ]"
   ]
  },
  {
   "cell_type": "code",
   "execution_count": 73,
   "metadata": {},
   "outputs": [],
   "source": [
    "X_train = X_enc_train[best_cols].values\n",
    "X_test = X_enc_test[best_cols].values\n",
    "y_train = X_enc_train['SalesInMillions'].values"
   ]
  },
  {
   "cell_type": "code",
   "execution_count": 74,
   "metadata": {},
   "outputs": [
    {
     "name": "stdout",
     "output_type": "stream",
     "text": [
      "Train (3506, 9) and test (1503, 9), y (3506,)\n"
     ]
    }
   ],
   "source": [
    "print(f\"Train {X_train.shape} and test {X_test.shape}, y {y_train.shape}\")"
   ]
  },
  {
   "cell_type": "markdown",
   "metadata": {},
   "source": [
    "## One-hot encoding"
   ]
  },
  {
   "cell_type": "code",
   "execution_count": 175,
   "metadata": {},
   "outputs": [],
   "source": [
    "tempset = dataset[best_cols]"
   ]
  },
  {
   "cell_type": "code",
   "execution_count": 176,
   "metadata": {},
   "outputs": [],
   "source": [
    "# Getting the categorical columns\n",
    "cat_data = tempset.select_dtypes(include=['object'])\n",
    "\n",
    "# One-hot encoding\n",
    "X_encode = pd.get_dummies(tempset, columns=cat_data.columns)\n",
    "\n",
    "# Getting back the Tran and Test data\n",
    "X_enc_train, X_enc_test = X_encode.xs(0), X_encode.xs(1)"
   ]
  },
  {
   "cell_type": "code",
   "execution_count": 177,
   "metadata": {},
   "outputs": [],
   "source": [
    "# Prepare X and y for fitting the model\n",
    "y_train = X_enc_train['SalesInMillions'].values\n",
    "X_train = X_enc_train.drop('SalesInMillions', axis=1).values\n",
    "\n",
    "\n",
    "X_test = X_enc_test.drop('SalesInMillions', axis=1)"
   ]
  },
  {
   "cell_type": "markdown",
   "metadata": {},
   "source": [
    "## Building RidgeCV Regression Model"
   ]
  },
  {
   "cell_type": "code",
   "execution_count": 178,
   "metadata": {},
   "outputs": [],
   "source": [
    "ridge_cv = RidgeCV(normalize=True,cv=5, scoring='neg_mean_squared_error')\n",
    "\n",
    "#Initializing Linear Regression algorithm with Ridge regularizer(K-fold with 10 folds)\n",
    "ridge_reg = TransformedTargetRegressor(regressor= ridge_cv,\n",
    "                                      func=np.log1p,\n",
    "                                      inverse_func=np.expm1)"
   ]
  },
  {
   "cell_type": "code",
   "execution_count": 179,
   "metadata": {},
   "outputs": [],
   "source": [
    "ridge_reg.fit(X_train, y_train)\n",
    "\n",
    "# Predict the test data\n",
    "predictions = ridge_reg.predict(X_test)"
   ]
  },
  {
   "cell_type": "code",
   "execution_count": 180,
   "metadata": {},
   "outputs": [
    {
     "data": {
      "text/plain": [
       "array([1.73926468, 1.72066772, 1.91593934, ..., 1.44821751, 1.87589397,\n",
       "       1.81062649])"
      ]
     },
     "execution_count": 180,
     "metadata": {},
     "output_type": "execute_result"
    }
   ],
   "source": [
    "predictions"
   ]
  },
  {
   "cell_type": "code",
   "execution_count": 182,
   "metadata": {},
   "outputs": [],
   "source": [
    "final_df = pd.DataFrame({'SalesInMillions': predictions}, index=X_enc_test.index)\n",
    "\n",
    "final_df['SalesInMillions'] = final_df.apply(lambda x: round(x, 6))\n",
    "final_df.to_csv('./output/game_sales_venkat_04.csv', index=False)\n",
    "\n",
    "# final_df = pd.concat(final_df['Selling_Price']], axis=1)"
   ]
  },
  {
   "cell_type": "code",
   "execution_count": null,
   "metadata": {},
   "outputs": [],
   "source": []
  },
  {
   "cell_type": "code",
   "execution_count": 31,
   "metadata": {},
   "outputs": [],
   "source": [
    "# ridge_cv = RidgeCV(normalize=True,cv=10, gcv_mode='svd', scoring='neg_mean_squared_error')\n",
    "lasso_cv = LassoCV(normalize=True, )\n",
    "\n",
    "#Initializing Linear Regression algorithm with Ridge regularizer(K-fold with 10 folds)\n",
    "ridge_reg = TransformedTargetRegressor(regressor= ridge_cv,\n",
    "                                      func=np.log1p,\n",
    "                                      inverse_func=np.expm1)"
   ]
  }
 ],
 "metadata": {
  "kernelspec": {
   "display_name": "hackenv",
   "language": "python",
   "name": "hackenv"
  },
  "language_info": {
   "codemirror_mode": {
    "name": "ipython",
    "version": 3
   },
   "file_extension": ".py",
   "mimetype": "text/x-python",
   "name": "python",
   "nbconvert_exporter": "python",
   "pygments_lexer": "ipython3",
   "version": "3.7.0"
  }
 },
 "nbformat": 4,
 "nbformat_minor": 2
}
